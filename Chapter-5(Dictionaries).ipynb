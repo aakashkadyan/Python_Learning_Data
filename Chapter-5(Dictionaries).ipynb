{
 "cells": [
  {
   "cell_type": "markdown",
   "id": "7fda7d62",
   "metadata": {},
   "source": [
    "# The Dictionary Data Type"
   ]
  },
  {
   "cell_type": "markdown",
   "id": "5e9e6298",
   "metadata": {},
   "source": [
    "Like a list, a dictionary is a collection of many values. But unlike indexes for\n",
    "lists, indexes for dictionaries can use many different data types, not just\n",
    "integers. Indexes for dictionaries are called keys, and a key with its associated value is called a key-value pair"
   ]
  },
  {
   "cell_type": "code",
   "execution_count": 3,
   "id": "d3158c52",
   "metadata": {},
   "outputs": [
    {
     "data": {
      "text/plain": [
       "'husky'"
      ]
     },
     "execution_count": 3,
     "metadata": {},
     "output_type": "execute_result"
    }
   ],
   "source": [
    "animal = {'breed':'husky','size':'tall','color':'white','address':'USA'}\n",
    "animal['breed']"
   ]
  },
  {
   "cell_type": "code",
   "execution_count": 7,
   "id": "245ca69b",
   "metadata": {},
   "outputs": [
    {
     "name": "stdout",
     "output_type": "stream",
     "text": [
      "my animal is of white color\n"
     ]
    }
   ],
   "source": [
    "print('my animal is of ' + str(animal['color'])+ ' color')"
   ]
  },
  {
   "cell_type": "markdown",
   "id": "a195afe1",
   "metadata": {},
   "source": [
    "# Dictionaries vs. Lists"
   ]
  },
  {
   "cell_type": "code",
   "execution_count": 9,
   "id": "c121607e",
   "metadata": {},
   "outputs": [
    {
     "data": {
      "text/plain": [
       "False"
      ]
     },
     "execution_count": 9,
     "metadata": {},
     "output_type": "execute_result"
    }
   ],
   "source": [
    "lst = [1,2,3,4]\n",
    "lst2 = [4,3,2,1]  #it is an ordered collection of element.\n",
    "lst == lst2"
   ]
  },
  {
   "cell_type": "code",
   "execution_count": 1,
   "id": "db728ade",
   "metadata": {},
   "outputs": [
    {
     "data": {
      "text/plain": [
       "True"
      ]
     },
     "execution_count": 1,
     "metadata": {},
     "output_type": "execute_result"
    }
   ],
   "source": [
    "dict1 = {'name':'aakash','age':27,'address':'nit-faridabad'}\n",
    "dict2 = {'age':27,'address':'nit-faridabad','name':'aakash'}  #it is an unordered data type\n",
    "dict1 == dict2"
   ]
  },
  {
   "cell_type": "markdown",
   "id": "bcfa370b",
   "metadata": {},
   "source": [
    "# The keys(), values(), and items() Methods"
   ]
  },
  {
   "cell_type": "code",
   "execution_count": 2,
   "id": "d13a7966",
   "metadata": {},
   "outputs": [],
   "source": [
    "my_dict = {'fruit':'apple','device':'laptop','vhicle':'car','communication':'mobile'}"
   ]
  },
  {
   "cell_type": "code",
   "execution_count": 12,
   "id": "4d1f4aab",
   "metadata": {},
   "outputs": [
    {
     "name": "stdout",
     "output_type": "stream",
     "text": [
      "apple\n",
      "laptop\n",
      "car\n",
      "mobile\n",
      "------- Keys Below ----------\n",
      "fruit\n",
      "device\n",
      "vhicle\n",
      "communication\n",
      "------- all items Below ----------\n",
      "('fruit', 'apple')\n",
      "('device', 'laptop')\n",
      "('vhicle', 'car')\n",
      "('communication', 'mobile')\n"
     ]
    }
   ],
   "source": [
    "for x in my_dict.values():\n",
    "    print(x)\n",
    "    \n",
    "print('------- Keys Below ----------')    \n",
    "for y in my_dict.keys():\n",
    "    \n",
    "    print(y)\n",
    "print('------- all items Below ----------')\n",
    "for z in my_dict.items():\n",
    "    print(z)"
   ]
  },
  {
   "cell_type": "code",
   "execution_count": 15,
   "id": "494168a3",
   "metadata": {},
   "outputs": [
    {
     "name": "stdout",
     "output_type": "stream",
     "text": [
      "dict_keys(['fruit', 'device', 'vhicle', 'communication'])\n"
     ]
    },
    {
     "data": {
      "text/plain": [
       "['fruit', 'device', 'vhicle', 'communication']"
      ]
     },
     "execution_count": 15,
     "metadata": {},
     "output_type": "execute_result"
    }
   ],
   "source": [
    "#to convert dict keys into list\n",
    "\n",
    "print(my_dict.keys())\n",
    "list(my_dict.keys())"
   ]
  },
  {
   "cell_type": "code",
   "execution_count": 18,
   "id": "e5261ada",
   "metadata": {},
   "outputs": [
    {
     "data": {
      "text/plain": [
       "True"
      ]
     },
     "execution_count": 18,
     "metadata": {},
     "output_type": "execute_result"
    }
   ],
   "source": [
    "#key present in dict or not\n",
    "'fruit' in my_dict"
   ]
  },
  {
   "cell_type": "code",
   "execution_count": 20,
   "id": "7b131a9f",
   "metadata": {},
   "outputs": [
    {
     "data": {
      "text/plain": [
       "True"
      ]
     },
     "execution_count": 20,
     "metadata": {},
     "output_type": "execute_result"
    }
   ],
   "source": [
    "'sam' not in my_dict"
   ]
  },
  {
   "cell_type": "markdown",
   "id": "58f4de83",
   "metadata": {},
   "source": [
    "# The get() Method"
   ]
  },
  {
   "cell_type": "markdown",
   "id": "743f98d2",
   "metadata": {},
   "source": [
    "It’s tedious to check whether a key exists in a dictionary before accessing\n",
    "that key’s value."
   ]
  },
  {
   "cell_type": "code",
   "execution_count": 1,
   "id": "96f434e4",
   "metadata": {},
   "outputs": [],
   "source": [
    "my_dict = {\"fruit\":\"aaple\",\"drive\":\"car\",\"device\":\"mobile\"}"
   ]
  },
  {
   "cell_type": "code",
   "execution_count": 10,
   "id": "05944342",
   "metadata": {},
   "outputs": [
    {
     "name": "stdout",
     "output_type": "stream",
     "text": [
      "i always eat aaple while i drive a car\n"
     ]
    }
   ],
   "source": [
    "print('i always eat ' + str(my_dict.get(\"fruit\",0)) + ' while i drive a ' + str(my_dict.get(\"drive\",0)))"
   ]
  },
  {
   "cell_type": "code",
   "execution_count": 12,
   "id": "70c85213",
   "metadata": {},
   "outputs": [
    {
     "name": "stdout",
     "output_type": "stream",
     "text": [
      "i always eat aaple while i drive a 0\n"
     ]
    }
   ],
   "source": [
    "print('i always eat ' + str(my_dict.get(\"fruit\",0)) + ' while i drive a ' + str(my_dict.get(\"vhicle\",0)))"
   ]
  },
  {
   "cell_type": "code",
   "execution_count": 16,
   "id": "8b4a99ea",
   "metadata": {},
   "outputs": [
    {
     "ename": "KeyError",
     "evalue": "'communication'",
     "output_type": "error",
     "traceback": [
      "\u001b[1;31m---------------------------------------------------------------------------\u001b[0m",
      "\u001b[1;31mKeyError\u001b[0m                                  Traceback (most recent call last)",
      "\u001b[1;32m~\\AppData\\Local\\Temp/ipykernel_27244/3078531194.py\u001b[0m in \u001b[0;36m<module>\u001b[1;34m\u001b[0m\n\u001b[0;32m      1\u001b[0m \u001b[1;31m#error without get function, it will give you a key error that is not present in dictionary\u001b[0m\u001b[1;33m\u001b[0m\u001b[1;33m\u001b[0m\u001b[1;33m\u001b[0m\u001b[0m\n\u001b[1;32m----> 2\u001b[1;33m \u001b[0mmy_dict\u001b[0m\u001b[1;33m[\u001b[0m\u001b[1;34m\"communication\"\u001b[0m\u001b[1;33m]\u001b[0m\u001b[1;33m\u001b[0m\u001b[1;33m\u001b[0m\u001b[0m\n\u001b[0m",
      "\u001b[1;31mKeyError\u001b[0m: 'communication'"
     ]
    }
   ],
   "source": [
    "#error without get function, it will give you a key error that is not present in dictionary\n",
    "my_dict[\"communication\"]   "
   ]
  },
  {
   "cell_type": "markdown",
   "id": "bc2a48ff",
   "metadata": {},
   "source": [
    "# The setdefault() Method"
   ]
  },
  {
   "cell_type": "code",
   "execution_count": 20,
   "id": "b24119a4",
   "metadata": {},
   "outputs": [],
   "source": [
    "#the one to set default key values in the dict\n",
    "if 'cloth' not in my_dict:\n",
    "    print('not in')\n",
    "    my_dict['cloth'] ='jean'"
   ]
  },
  {
   "cell_type": "code",
   "execution_count": 21,
   "id": "6fac73f2",
   "metadata": {},
   "outputs": [
    {
     "data": {
      "text/plain": [
       "{'fruit': 'aaple', 'drive': 'car', 'device': 'mobile', 'cloth': 'jean'}"
      ]
     },
     "execution_count": 21,
     "metadata": {},
     "output_type": "execute_result"
    }
   ],
   "source": [
    "my_dict"
   ]
  },
  {
   "cell_type": "code",
   "execution_count": 24,
   "id": "fa3fda2b",
   "metadata": {},
   "outputs": [
    {
     "data": {
      "text/plain": [
       "'watch'"
      ]
     },
     "execution_count": 24,
     "metadata": {},
     "output_type": "execute_result"
    }
   ],
   "source": [
    "my_dict.setdefault('time','watch')"
   ]
  },
  {
   "cell_type": "code",
   "execution_count": 26,
   "id": "94441887",
   "metadata": {},
   "outputs": [
    {
     "data": {
      "text/plain": [
       "{'fruit': 'aaple',\n",
       " 'drive': 'car',\n",
       " 'device': 'mobile',\n",
       " 'cloth': 'jean',\n",
       " 'time': 'watch'}"
      ]
     },
     "execution_count": 26,
     "metadata": {},
     "output_type": "execute_result"
    }
   ],
   "source": [
    "my_dict"
   ]
  },
  {
   "cell_type": "code",
   "execution_count": 39,
   "id": "451a7882",
   "metadata": {},
   "outputs": [
    {
     "name": "stdout",
     "output_type": "stream",
     "text": [
      "{'i': 1, ' ': 2, 'l': 1, 'o': 2, 'v': 1, 'e': 1, 'p': 1, 'y': 1, 't': 1, 'h': 1, 'n': 1}\n"
     ]
    }
   ],
   "source": [
    "message = 'i love python'\n",
    "count = {}\n",
    "for x in message:\n",
    "    count.setdefault(x,0)\n",
    "    #print(count)\n",
    "    count[x]+=1\n",
    "print(count)        "
   ]
  },
  {
   "cell_type": "code",
   "execution_count": null,
   "id": "809a51a2",
   "metadata": {},
   "outputs": [],
   "source": []
  }
 ],
 "metadata": {
  "kernelspec": {
   "display_name": "Python 3 (ipykernel)",
   "language": "python",
   "name": "python3"
  },
  "language_info": {
   "codemirror_mode": {
    "name": "ipython",
    "version": 3
   },
   "file_extension": ".py",
   "mimetype": "text/x-python",
   "name": "python",
   "nbconvert_exporter": "python",
   "pygments_lexer": "ipython3",
   "version": "3.9.5"
  }
 },
 "nbformat": 4,
 "nbformat_minor": 5
}
