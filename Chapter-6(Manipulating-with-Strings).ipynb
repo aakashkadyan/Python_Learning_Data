{
 "cells": [
  {
   "cell_type": "code",
   "execution_count": 1,
   "id": "13864668",
   "metadata": {},
   "outputs": [],
   "source": [
    "string = \"i love apple to eat and code to python\""
   ]
  },
  {
   "cell_type": "code",
   "execution_count": 3,
   "id": "cdea87f3",
   "metadata": {},
   "outputs": [
    {
     "data": {
      "text/plain": [
       "'i love apple to eat and code to python'"
      ]
     },
     "execution_count": 3,
     "metadata": {},
     "output_type": "execute_result"
    }
   ],
   "source": [
    "string"
   ]
  },
  {
   "cell_type": "code",
   "execution_count": 8,
   "id": "fb858f88",
   "metadata": {},
   "outputs": [],
   "source": [
    "x = \"hey there i\\'m working in xyz company!\""
   ]
  },
  {
   "cell_type": "code",
   "execution_count": 10,
   "id": "0c490c49",
   "metadata": {},
   "outputs": [
    {
     "data": {
      "text/plain": [
       "\"hey there i'm working in xyz company! \""
      ]
     },
     "execution_count": 10,
     "metadata": {},
     "output_type": "execute_result"
    }
   ],
   "source": [
    "x"
   ]
  },
  {
   "cell_type": "code",
   "execution_count": 15,
   "id": "620f7397",
   "metadata": {},
   "outputs": [],
   "source": [
    "x = \"hey there i\\'m working in xyz company!\""
   ]
  },
  {
   "cell_type": "code",
   "execution_count": 1,
   "id": "ffed290a",
   "metadata": {},
   "outputs": [
    {
     "ename": "NameError",
     "evalue": "name 'x' is not defined",
     "output_type": "error",
     "traceback": [
      "\u001b[1;31m---------------------------------------------------------------------------\u001b[0m",
      "\u001b[1;31mNameError\u001b[0m                                 Traceback (most recent call last)",
      "\u001b[1;32m~\\AppData\\Local\\Temp/ipykernel_12356/32546335.py\u001b[0m in \u001b[0;36m<module>\u001b[1;34m\u001b[0m\n\u001b[1;32m----> 1\u001b[1;33m \u001b[0mx\u001b[0m\u001b[1;33m\u001b[0m\u001b[1;33m\u001b[0m\u001b[0m\n\u001b[0m",
      "\u001b[1;31mNameError\u001b[0m: name 'x' is not defined"
     ]
    }
   ],
   "source": [
    "x"
   ]
  },
  {
   "cell_type": "code",
   "execution_count": 8,
   "id": "b6cd088c",
   "metadata": {},
   "outputs": [],
   "source": [
    "#raw strings \n",
    "raw = '''Lorem Ipsum is simply dummy text of the printing and typesetting industry. \n",
    "Lorem Ipsum has been the industry's standard dummy text ever since the 1500s,\n",
    "when an unknown printer took a galley of type and scrambled it to make a type specimen\\' book. \n",
    "It has survived not only five centuries, but also the leap into electronic typesetting, remaining essentially unchanged.\n",
    "It was popularised in the 1960s with the release of Letraset sheets containing Lorem Ipsum passages,\n",
    "and more recently with desktop publishing software like Aldus PageMaker including versions of Lorem Ipsum.'''"
   ]
  },
  {
   "cell_type": "code",
   "execution_count": 9,
   "id": "122c233e",
   "metadata": {},
   "outputs": [
    {
     "data": {
      "text/plain": [
       "\"Lorem Ipsum is simply dummy text of the printing and typesetting industry. \\nLorem Ipsum has been the industry's standard dummy text ever since the 1500s,\\nwhen an unknown printer took a galley of type and scrambled it to make a type specimen' book. \\nIt has survived not only five centuries, but also the leap into electronic typesetting, remaining essentially unchanged.\\nIt was popularised in the 1960s with the release of Letraset sheets containing Lorem Ipsum passages,\\nand more recently with desktop publishing software like Aldus PageMaker including versions of Lorem Ipsum.\""
      ]
     },
     "execution_count": 9,
     "metadata": {},
     "output_type": "execute_result"
    }
   ],
   "source": [
    "raw"
   ]
  },
  {
   "cell_type": "code",
   "execution_count": 8,
   "id": "75c41b16",
   "metadata": {},
   "outputs": [
    {
     "data": {
      "text/plain": [
       "'\\nHey there this \\nis multiline comment \\nsection\\n'"
      ]
     },
     "execution_count": 8,
     "metadata": {},
     "output_type": "execute_result"
    }
   ],
   "source": [
    "#multi line comments\n",
    "\"\"\"\n",
    "Hey there this \n",
    "is multiline comment \n",
    "section\n",
    "\"\"\"\n",
    "\n"
   ]
  },
  {
   "cell_type": "code",
   "execution_count": 3,
   "id": "50b43483",
   "metadata": {},
   "outputs": [
    {
     "data": {
      "text/plain": [
       "'l'"
      ]
     },
     "execution_count": 3,
     "metadata": {},
     "output_type": "execute_result"
    }
   ],
   "source": [
    "#indexing and slicing\n",
    "\n",
    "text = \"i love python\"\n",
    "text[2]"
   ]
  },
  {
   "cell_type": "code",
   "execution_count": 5,
   "id": "08b37a5e",
   "metadata": {},
   "outputs": [
    {
     "data": {
      "text/plain": [
       "'love p'"
      ]
     },
     "execution_count": 5,
     "metadata": {},
     "output_type": "execute_result"
    }
   ],
   "source": [
    "text[2:8]\n"
   ]
  },
  {
   "cell_type": "code",
   "execution_count": 11,
   "id": "b4c43fbe",
   "metadata": {},
   "outputs": [
    {
     "data": {
      "text/plain": [
       "\"lorem ipsum is simply dummy text of the printing and typesetting industry. \\nlorem ipsum has been the industry's standard dummy text ever since the 1500s,\\nwhen an unknown printer took a galley of type and scrambled it to make a type specimen' book. \\nit has survived not only five centuries, but also the leap into electronic typesetting, remaining essentially unchanged.\\nit was popularised in the 1960s with the release of letraset sheets containing lorem ipsum passages,\\nand more recently with desktop publishing software like aldus pagemaker including versions of lorem ipsum.\""
      ]
     },
     "execution_count": 11,
     "metadata": {},
     "output_type": "execute_result"
    }
   ],
   "source": [
    "#lower, upper & islower\n",
    "raw.lower()"
   ]
  },
  {
   "cell_type": "code",
   "execution_count": 13,
   "id": "64c1a140",
   "metadata": {},
   "outputs": [
    {
     "data": {
      "text/plain": [
       "\"LOREM IPSUM IS SIMPLY DUMMY TEXT OF THE PRINTING AND TYPESETTING INDUSTRY. \\nLOREM IPSUM HAS BEEN THE INDUSTRY'S STANDARD DUMMY TEXT EVER SINCE THE 1500S,\\nWHEN AN UNKNOWN PRINTER TOOK A GALLEY OF TYPE AND SCRAMBLED IT TO MAKE A TYPE SPECIMEN' BOOK. \\nIT HAS SURVIVED NOT ONLY FIVE CENTURIES, BUT ALSO THE LEAP INTO ELECTRONIC TYPESETTING, REMAINING ESSENTIALLY UNCHANGED.\\nIT WAS POPULARISED IN THE 1960S WITH THE RELEASE OF LETRASET SHEETS CONTAINING LOREM IPSUM PASSAGES,\\nAND MORE RECENTLY WITH DESKTOP PUBLISHING SOFTWARE LIKE ALDUS PAGEMAKER INCLUDING VERSIONS OF LOREM IPSUM.\""
      ]
     },
     "execution_count": 13,
     "metadata": {},
     "output_type": "execute_result"
    }
   ],
   "source": [
    "raw.upper()"
   ]
  },
  {
   "cell_type": "markdown",
   "id": "a8d23fd5",
   "metadata": {},
   "source": [
    "# The startswith() and endswith() String Methods"
   ]
  },
  {
   "cell_type": "code",
   "execution_count": 2,
   "id": "2b97b565",
   "metadata": {},
   "outputs": [
    {
     "data": {
      "text/plain": [
       "True"
      ]
     },
     "execution_count": 2,
     "metadata": {},
     "output_type": "execute_result"
    }
   ],
   "source": [
    "text1 = \"love python to code!\"\n",
    "text1.startswith(\"love\")"
   ]
  },
  {
   "cell_type": "code",
   "execution_count": 3,
   "id": "5589eb6c",
   "metadata": {},
   "outputs": [
    {
     "data": {
      "text/plain": [
       "True"
      ]
     },
     "execution_count": 3,
     "metadata": {},
     "output_type": "execute_result"
    }
   ],
   "source": [
    "text1.endswith(\"code!\")"
   ]
  },
  {
   "cell_type": "code",
   "execution_count": 4,
   "id": "5d1f43cf",
   "metadata": {},
   "outputs": [
    {
     "data": {
      "text/plain": [
       "False"
      ]
     },
     "execution_count": 4,
     "metadata": {},
     "output_type": "execute_result"
    }
   ],
   "source": [
    "text1.endswith(\"code\")"
   ]
  },
  {
   "cell_type": "code",
   "execution_count": 5,
   "id": "fbb8a839",
   "metadata": {},
   "outputs": [],
   "source": [
    "#Join and split method in strings"
   ]
  },
  {
   "cell_type": "code",
   "execution_count": 6,
   "id": "7f1a6387",
   "metadata": {},
   "outputs": [],
   "source": [
    "list_fruit = ['Apple','date','banana','mango','pineapple']"
   ]
  },
  {
   "cell_type": "code",
   "execution_count": 8,
   "id": "11bf9939",
   "metadata": {},
   "outputs": [
    {
     "data": {
      "text/plain": [
       "'Apple-date-banana-mango-pineapple'"
      ]
     },
     "execution_count": 8,
     "metadata": {},
     "output_type": "execute_result"
    }
   ],
   "source": [
    "'-'.join(list_fruit)"
   ]
  },
  {
   "cell_type": "code",
   "execution_count": 10,
   "id": "6ec13810",
   "metadata": {},
   "outputs": [
    {
     "data": {
      "text/plain": [
       "'Apple,date,banana,mango,pineapple'"
      ]
     },
     "execution_count": 10,
     "metadata": {},
     "output_type": "execute_result"
    }
   ],
   "source": [
    "','.join(list_fruit)"
   ]
  },
  {
   "cell_type": "code",
   "execution_count": 11,
   "id": "0ddb1074",
   "metadata": {},
   "outputs": [],
   "source": [
    "text_string = \"Lorem Ipsum is simply dummy text of the printing and typesetting industry. \\nLorem Ipsum has been the industry's standard dummy text ever since the 1500s.when an unknown printer took a galley of type and scrambled it to make a type specimen' book.It has survived not only five centuries.\""
   ]
  },
  {
   "cell_type": "code",
   "execution_count": 13,
   "id": "60e3e98c",
   "metadata": {},
   "outputs": [
    {
     "data": {
      "text/plain": [
       "['Lorem Ipsum is simply dummy text of the printing and typesetting industry',\n",
       " \" \\nLorem Ipsum has been the industry's standard dummy text ever since the 1500s\",\n",
       " \"when an unknown printer took a galley of type and scrambled it to make a type specimen' book\",\n",
       " 'It has survived not only five centuries',\n",
       " '']"
      ]
     },
     "execution_count": 13,
     "metadata": {},
     "output_type": "execute_result"
    }
   ],
   "source": [
    "text_string.split('.')"
   ]
  },
  {
   "cell_type": "code",
   "execution_count": 22,
   "id": "eda6ddc8",
   "metadata": {},
   "outputs": [
    {
     "data": {
      "text/plain": [
       "['Lorem Ipsum is simply dummy text of the printing and typesetting industry. ',\n",
       " \"Lorem Ipsum has been the industry's standard dummy text ever since the 1500s.when an unknown printer took a galley of type and scrambled it to make a type specimen' book.It has survived not only five centuries.\"]"
      ]
     },
     "execution_count": 22,
     "metadata": {},
     "output_type": "execute_result"
    }
   ],
   "source": [
    "text_string.split('\\n')"
   ]
  },
  {
   "cell_type": "code",
   "execution_count": 23,
   "id": "554788d2",
   "metadata": {},
   "outputs": [],
   "source": [
    "str2 = 'i love python'"
   ]
  },
  {
   "cell_type": "code",
   "execution_count": 25,
   "id": "5ba8c0e3",
   "metadata": {},
   "outputs": [
    {
     "data": {
      "text/plain": [
       "'o'"
      ]
     },
     "execution_count": 25,
     "metadata": {},
     "output_type": "execute_result"
    }
   ],
   "source": [
    "str2[-2]"
   ]
  },
  {
   "cell_type": "code",
   "execution_count": null,
   "id": "7f50244f",
   "metadata": {},
   "outputs": [],
   "source": []
  },
  {
   "cell_type": "code",
   "execution_count": null,
   "id": "b514668c",
   "metadata": {},
   "outputs": [],
   "source": []
  },
  {
   "cell_type": "markdown",
   "id": "e3712014",
   "metadata": {},
   "source": [
    "# Removing Whitespace with strip(), rstrip(), and lstrip()"
   ]
  },
  {
   "cell_type": "markdown",
   "id": "d323016d",
   "metadata": {},
   "source": [
    "Sometimes you may want to strip off whitespace characters (space, tab,\n",
    "and newline) from the left side, right side, or both sides of a string. The\n",
    "strip() string method will return a new string without any whitespace"
   ]
  },
  {
   "cell_type": "code",
   "execution_count": 16,
   "id": "07c45cc2",
   "metadata": {},
   "outputs": [],
   "source": [
    "str1 = '  Lorem Ipsum is simply dummy text of the printing and typesetting industry  '"
   ]
  },
  {
   "cell_type": "code",
   "execution_count": 18,
   "id": "136f111b",
   "metadata": {},
   "outputs": [
    {
     "data": {
      "text/plain": [
       "'Lorem Ipsum is simply dummy text of the printing and typesetting industry'"
      ]
     },
     "execution_count": 18,
     "metadata": {},
     "output_type": "execute_result"
    }
   ],
   "source": [
    "str1.strip()"
   ]
  },
  {
   "cell_type": "code",
   "execution_count": 20,
   "id": "983e3555",
   "metadata": {},
   "outputs": [
    {
     "data": {
      "text/plain": [
       "'Lorem Ipsum is simply dummy text of the printing and typesetting industry  '"
      ]
     },
     "execution_count": 20,
     "metadata": {},
     "output_type": "execute_result"
    }
   ],
   "source": [
    "str1.lstrip()"
   ]
  },
  {
   "cell_type": "code",
   "execution_count": 21,
   "id": "5938cfe4",
   "metadata": {},
   "outputs": [
    {
     "data": {
      "text/plain": [
       "'  Lorem Ipsum is simply dummy text of the printing and typesetting industry'"
      ]
     },
     "execution_count": 21,
     "metadata": {},
     "output_type": "execute_result"
    }
   ],
   "source": [
    "str1.rstrip()"
   ]
  }
 ],
 "metadata": {
  "kernelspec": {
   "display_name": "Python 3 (ipykernel)",
   "language": "python",
   "name": "python3"
  },
  "language_info": {
   "codemirror_mode": {
    "name": "ipython",
    "version": 3
   },
   "file_extension": ".py",
   "mimetype": "text/x-python",
   "name": "python",
   "nbconvert_exporter": "python",
   "pygments_lexer": "ipython3",
   "version": "3.9.5"
  }
 },
 "nbformat": 4,
 "nbformat_minor": 5
}
