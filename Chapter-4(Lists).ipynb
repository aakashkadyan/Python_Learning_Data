{
 "cells": [
  {
   "cell_type": "markdown",
   "id": "324ae2bd",
   "metadata": {},
   "source": [
    "# A list is a value that contains multiple values in an ordered sequence.\n",
    "The term list value refers to the list itself (which is a value that can be stored in a\n",
    "variable or passed to a function like any other value), not the values inside\n",
    "the list value."
   ]
  },
  {
   "cell_type": "code",
   "execution_count": 2,
   "id": "be91071a",
   "metadata": {},
   "outputs": [
    {
     "data": {
      "text/plain": [
       "[1, 2, 3, 4]"
      ]
     },
     "execution_count": 2,
     "metadata": {},
     "output_type": "execute_result"
    }
   ],
   "source": [
    "#a simple List\n",
    "\n",
    "[1,2,3,4]"
   ]
  },
  {
   "cell_type": "code",
   "execution_count": 4,
   "id": "fa5a7539",
   "metadata": {},
   "outputs": [
    {
     "data": {
      "text/plain": [
       "[1, 2, 'Aakash', 'apple', 'Vishal', 3.5]"
      ]
     },
     "execution_count": 4,
     "metadata": {},
     "output_type": "execute_result"
    }
   ],
   "source": [
    "[1,2,'Aakash','apple','Vishal',3.5] #list containing multiple type of data"
   ]
  },
  {
   "cell_type": "code",
   "execution_count": 5,
   "id": "04ca604e",
   "metadata": {},
   "outputs": [],
   "source": [
    "lst = ['Aakash','Vikas', 'Ravi','Shivani','Rani'] #list containing String Data type"
   ]
  },
  {
   "cell_type": "code",
   "execution_count": 7,
   "id": "40765655",
   "metadata": {},
   "outputs": [
    {
     "name": "stdout",
     "output_type": "stream",
     "text": [
      "['Aakash', 'Vikas', 'Ravi', 'Shivani', 'Rani']\n"
     ]
    }
   ],
   "source": [
    "print(lst)"
   ]
  },
  {
   "cell_type": "code",
   "execution_count": 2,
   "id": "9663fed8",
   "metadata": {},
   "outputs": [],
   "source": [
    "lst_num = [1,2,3,4,5,5.6,6.6,7.7,8.9] #list containing integer & Float Data type"
   ]
  },
  {
   "cell_type": "code",
   "execution_count": 3,
   "id": "a2c384e4",
   "metadata": {},
   "outputs": [
    {
     "name": "stdout",
     "output_type": "stream",
     "text": [
      "[1, 2, 3, 4, 5, 5.6, 6.6, 7.7, 8.9]\n"
     ]
    }
   ],
   "source": [
    "print(lst_num)"
   ]
  },
  {
   "cell_type": "code",
   "execution_count": 4,
   "id": "9fe85cb9",
   "metadata": {},
   "outputs": [],
   "source": [
    "#List with indexing\n",
    "lst = ['Aakash','Vikas', 'Ravi','Shivani','Rani']"
   ]
  },
  {
   "cell_type": "code",
   "execution_count": 9,
   "id": "08cacae5",
   "metadata": {},
   "outputs": [
    {
     "name": "stdout",
     "output_type": "stream",
     "text": [
      "Rani\n"
     ]
    }
   ],
   "source": [
    "print(lst[4])"
   ]
  },
  {
   "cell_type": "code",
   "execution_count": 13,
   "id": "ae78bb32",
   "metadata": {},
   "outputs": [
    {
     "data": {
      "text/plain": [
       "'Hello Aakash'"
      ]
     },
     "execution_count": 13,
     "metadata": {},
     "output_type": "execute_result"
    }
   ],
   "source": [
    "'Hello ' + lst[0]"
   ]
  },
  {
   "cell_type": "code",
   "execution_count": 15,
   "id": "6e620add",
   "metadata": {},
   "outputs": [
    {
     "data": {
      "text/plain": [
       "'AakashVikas'"
      ]
     },
     "execution_count": 15,
     "metadata": {},
     "output_type": "execute_result"
    }
   ],
   "source": [
    "lst[0] + lst[1]"
   ]
  },
  {
   "cell_type": "code",
   "execution_count": 17,
   "id": "637783d1",
   "metadata": {},
   "outputs": [
    {
     "ename": "IndexError",
     "evalue": "list index out of range",
     "output_type": "error",
     "traceback": [
      "\u001b[1;31m---------------------------------------------------------------------------\u001b[0m",
      "\u001b[1;31mIndexError\u001b[0m                                Traceback (most recent call last)",
      "\u001b[1;32m~\\AppData\\Local\\Temp/ipykernel_15420/2921007566.py\u001b[0m in \u001b[0;36m<module>\u001b[1;34m\u001b[0m\n\u001b[1;32m----> 1\u001b[1;33m \u001b[0mlst\u001b[0m\u001b[1;33m[\u001b[0m\u001b[1;36m1000\u001b[0m\u001b[1;33m]\u001b[0m \u001b[1;31m#will throw an error because you put index value more than available there..\u001b[0m\u001b[1;33m\u001b[0m\u001b[1;33m\u001b[0m\u001b[0m\n\u001b[0m",
      "\u001b[1;31mIndexError\u001b[0m: list index out of range"
     ]
    }
   ],
   "source": [
    "lst[1000] #will throw an error because you put index value more than available there.."
   ]
  },
  {
   "cell_type": "code",
   "execution_count": 19,
   "id": "92101654",
   "metadata": {},
   "outputs": [
    {
     "ename": "TypeError",
     "evalue": "list indices must be integers or slices, not float",
     "output_type": "error",
     "traceback": [
      "\u001b[1;31m---------------------------------------------------------------------------\u001b[0m",
      "\u001b[1;31mTypeError\u001b[0m                                 Traceback (most recent call last)",
      "\u001b[1;32m~\\AppData\\Local\\Temp/ipykernel_15420/1960197556.py\u001b[0m in \u001b[0;36m<module>\u001b[1;34m\u001b[0m\n\u001b[1;32m----> 1\u001b[1;33m \u001b[0mlst\u001b[0m\u001b[1;33m[\u001b[0m\u001b[1;36m1.0\u001b[0m\u001b[1;33m]\u001b[0m \u001b[1;31m#if you put float number it will give you an error indecx value should be always integer....\u001b[0m\u001b[1;33m\u001b[0m\u001b[1;33m\u001b[0m\u001b[0m\n\u001b[0m",
      "\u001b[1;31mTypeError\u001b[0m: list indices must be integers or slices, not float"
     ]
    }
   ],
   "source": [
    "lst[1.0] #if you put float number it will give you an error indecx value should be always integer...."
   ]
  },
  {
   "cell_type": "markdown",
   "id": "2f8376fd",
   "metadata": {},
   "source": [
    "Lists can also contain other list values. The values in these lists of lists\n",
    "can be accessed using multiple indexes, like so:"
   ]
  },
  {
   "cell_type": "code",
   "execution_count": 22,
   "id": "8e2c0de1",
   "metadata": {},
   "outputs": [],
   "source": [
    "name = [['aakash','ravi','yash'],['vinay','ashok','meena']]  #list of lists"
   ]
  },
  {
   "cell_type": "code",
   "execution_count": 24,
   "id": "0de07f60",
   "metadata": {},
   "outputs": [
    {
     "data": {
      "text/plain": [
       "'vinay'"
      ]
     },
     "execution_count": 24,
     "metadata": {},
     "output_type": "execute_result"
    }
   ],
   "source": [
    "name[1][0]"
   ]
  },
  {
   "cell_type": "code",
   "execution_count": 3,
   "id": "6e8e1630",
   "metadata": {},
   "outputs": [],
   "source": [
    "#negative indexing \n",
    "animals =  ['cat', 'bat', 'rat', 'elephant']"
   ]
  },
  {
   "cell_type": "code",
   "execution_count": 27,
   "id": "cb5531bb",
   "metadata": {},
   "outputs": [
    {
     "data": {
      "text/plain": [
       "'elephant'"
      ]
     },
     "execution_count": 27,
     "metadata": {},
     "output_type": "execute_result"
    }
   ],
   "source": [
    "animals[-1]"
   ]
  },
  {
   "cell_type": "code",
   "execution_count": 29,
   "id": "aff97610",
   "metadata": {},
   "outputs": [
    {
     "name": "stdout",
     "output_type": "stream",
     "text": [
      "rat\n"
     ]
    }
   ],
   "source": [
    "print(animals[-2])"
   ]
  },
  {
   "cell_type": "code",
   "execution_count": 32,
   "id": "3f13adcf",
   "metadata": {},
   "outputs": [
    {
     "data": {
      "text/plain": [
       "'cat'"
      ]
     },
     "execution_count": 32,
     "metadata": {},
     "output_type": "execute_result"
    }
   ],
   "source": [
    "animals[-4]"
   ]
  },
  {
   "cell_type": "code",
   "execution_count": 34,
   "id": "f39ee24f",
   "metadata": {},
   "outputs": [
    {
     "data": {
      "text/plain": [
       "['bat', 'rat']"
      ]
     },
     "execution_count": 34,
     "metadata": {},
     "output_type": "execute_result"
    }
   ],
   "source": [
    "#slicing with lists\n",
    "animals[1:3]"
   ]
  },
  {
   "cell_type": "code",
   "execution_count": 36,
   "id": "683bd1f0",
   "metadata": {},
   "outputs": [
    {
     "data": {
      "text/plain": [
       "['rat', 'elephant']"
      ]
     },
     "execution_count": 36,
     "metadata": {},
     "output_type": "execute_result"
    }
   ],
   "source": [
    "animals[2:]"
   ]
  },
  {
   "cell_type": "code",
   "execution_count": 39,
   "id": "d5179e18",
   "metadata": {},
   "outputs": [
    {
     "data": {
      "text/plain": [
       "['cat', 'bat', 'rat', 'elephant']"
      ]
     },
     "execution_count": 39,
     "metadata": {},
     "output_type": "execute_result"
    }
   ],
   "source": [
    "animals[:4]"
   ]
  },
  {
   "cell_type": "code",
   "execution_count": 41,
   "id": "dbfccf39",
   "metadata": {},
   "outputs": [
    {
     "data": {
      "text/plain": [
       "['cat', 'bat', 'rat', 'elephant']"
      ]
     },
     "execution_count": 41,
     "metadata": {},
     "output_type": "execute_result"
    }
   ],
   "source": [
    "animals[:]"
   ]
  },
  {
   "cell_type": "code",
   "execution_count": 44,
   "id": "8d4ba66c",
   "metadata": {},
   "outputs": [
    {
     "data": {
      "text/plain": [
       "4"
      ]
     },
     "execution_count": 44,
     "metadata": {},
     "output_type": "execute_result"
    }
   ],
   "source": [
    "#list length\n",
    "len(animals)"
   ]
  },
  {
   "cell_type": "code",
   "execution_count": 5,
   "id": "863d4d3e",
   "metadata": {},
   "outputs": [],
   "source": [
    "#Changing Values in a List with Indexes\n",
    "animals[3] = 'ardvark'"
   ]
  },
  {
   "cell_type": "code",
   "execution_count": 4,
   "id": "a47d7f02",
   "metadata": {},
   "outputs": [
    {
     "data": {
      "text/plain": [
       "['cat', 'bat', 'rat', 'elephant']"
      ]
     },
     "execution_count": 4,
     "metadata": {},
     "output_type": "execute_result"
    }
   ],
   "source": [
    "animals"
   ]
  },
  {
   "cell_type": "code",
   "execution_count": 6,
   "id": "eaee4317",
   "metadata": {},
   "outputs": [],
   "source": [
    "#list concatination\n",
    "\n",
    "list1 = ['aakash','ravi','simi']\n",
    "list2 = ['shriram','kavi','shyam']  #elements append in 3rd position of the 1st list after concatination"
   ]
  },
  {
   "cell_type": "code",
   "execution_count": 7,
   "id": "a9c7be58",
   "metadata": {},
   "outputs": [],
   "source": [
    "list3 = list1+list2"
   ]
  },
  {
   "cell_type": "code",
   "execution_count": 9,
   "id": "dde728c9",
   "metadata": {},
   "outputs": [
    {
     "data": {
      "text/plain": [
       "['aakash', 'ravi', 'simi', 'shriram', 'kavi', 'shyam']"
      ]
     },
     "execution_count": 9,
     "metadata": {},
     "output_type": "execute_result"
    }
   ],
   "source": [
    "list3"
   ]
  },
  {
   "cell_type": "code",
   "execution_count": 11,
   "id": "3e94fd75",
   "metadata": {},
   "outputs": [],
   "source": [
    "#Removing Values from Lists with del Statements\n",
    "\n",
    "lst3 = ['apple','banana','pineapple','date']"
   ]
  },
  {
   "cell_type": "code",
   "execution_count": 14,
   "id": "4adcf42a",
   "metadata": {},
   "outputs": [],
   "source": [
    "del lst3[2]"
   ]
  },
  {
   "cell_type": "code",
   "execution_count": 16,
   "id": "05d59e2e",
   "metadata": {},
   "outputs": [
    {
     "data": {
      "text/plain": [
       "['apple', 'banana']"
      ]
     },
     "execution_count": 16,
     "metadata": {},
     "output_type": "execute_result"
    }
   ],
   "source": [
    "lst3"
   ]
  },
  {
   "cell_type": "markdown",
   "id": "058f446e",
   "metadata": {},
   "source": [
    "  # Working with Lists"
   ]
  },
  {
   "cell_type": "code",
   "execution_count": 6,
   "id": "9c0a7d0f",
   "metadata": {},
   "outputs": [],
   "source": [
    "name1 = 'aakash'\n",
    "name2 = 'vinay'\n",
    "name3 = 'ravi'\n",
    "name4 = 'kishan'"
   ]
  },
  {
   "cell_type": "code",
   "execution_count": 7,
   "id": "a3ecead8",
   "metadata": {},
   "outputs": [
    {
     "name": "stdout",
     "output_type": "stream",
     "text": [
      "Enter 1st Name:a\n",
      "Enter 2nd Name:b\n",
      "Enter 3rd Name:c\n",
      "Enter 4th Name:d\n",
      "a b c d\n"
     ]
    }
   ],
   "source": [
    "name1 = str(input('Enter 1st Name:'))\n",
    "name2 = str(input('Enter 2nd Name:'))\n",
    "name3 = str(input('Enter 3rd Name:'))\n",
    "name4 = str(input('Enter 4th Name:'))\n",
    "print(name1 + ' ' + name2 + ' ' + name3 + ' ' +name4)"
   ]
  },
  {
   "cell_type": "code",
   "execution_count": 13,
   "id": "c53d6d69",
   "metadata": {},
   "outputs": [
    {
     "name": "stdout",
     "output_type": "stream",
     "text": [
      "enter the name 1(eneter nothing to stop:):\n",
      "abhi\n",
      "enter the name 2(eneter nothing to stop:):\n",
      "ram\n",
      "enter the name 3(eneter nothing to stop:):\n",
      "shyam\n",
      "enter the name 4(eneter nothing to stop:):\n",
      "dev\n",
      "enter the name 5(eneter nothing to stop:):\n",
      "aakash\n",
      "The names are as follows:\n",
      "abhi\n",
      "ram\n",
      "shyam\n",
      "dev\n"
     ]
    }
   ],
   "source": [
    "names = []\n",
    "while True:\n",
    "    print('enter the name ' + str(len(names) + 1) + '(eneter nothing to stop:):')\n",
    "    name = input()\n",
    "    if name == 'aakash':\n",
    "        break\n",
    "    names = names + [name]      #it will break once it will got the name aakash found and then print all the name\n",
    "print('The names are as follows:')\n",
    "for name in names:\n",
    "    print('' + name)\n",
    "    "
   ]
  },
  {
   "cell_type": "markdown",
   "id": "7a58c348",
   "metadata": {},
   "source": [
    "# using for loops with Lists"
   ]
  },
  {
   "cell_type": "code",
   "execution_count": 9,
   "id": "5c222278",
   "metadata": {},
   "outputs": [
    {
     "name": "stdout",
     "output_type": "stream",
     "text": [
      "0 index aaple\n",
      "1 index bananas\n",
      "2 index date\n",
      "3 index mango\n"
     ]
    }
   ],
   "source": [
    "fruits = ['aaple','bananas','date','mango']\n",
    "for i in range(len(fruits)):                   #iteration of list in for loop\n",
    "    print(str(i) + ' index ' + fruits[i])"
   ]
  },
  {
   "cell_type": "code",
   "execution_count": 15,
   "id": "bf3bdbd3",
   "metadata": {},
   "outputs": [
    {
     "name": "stdout",
     "output_type": "stream",
     "text": [
      "1\n",
      "2\n",
      "3\n",
      "4\n",
      "5\n",
      "6\n"
     ]
    }
   ],
   "source": [
    "lst2 =  [1,2,3,4,5,6]\n",
    "\n",
    "for i in lst2: #representing length of list iteration\n",
    "#for i in range(len(lst2)):  #representing length of list\n",
    "    print(i)"
   ]
  },
  {
   "cell_type": "code",
   "execution_count": 18,
   "id": "42fc961c",
   "metadata": {},
   "outputs": [
    {
     "data": {
      "text/plain": [
       "True"
      ]
     },
     "execution_count": 18,
     "metadata": {},
     "output_type": "execute_result"
    }
   ],
   "source": [
    "#The in and not in Operators\n",
    "\n",
    "lst3 = [2,3,4,5,6,7,8,]\n",
    "2 in lst3                      #it says the value is in list or not"
   ]
  },
  {
   "cell_type": "code",
   "execution_count": 20,
   "id": "3e80860c",
   "metadata": {},
   "outputs": [
    {
     "data": {
      "text/plain": [
       "False"
      ]
     },
     "execution_count": 20,
     "metadata": {},
     "output_type": "execute_result"
    }
   ],
   "source": [
    "lst4 = ['aakash','ravi','sunny','priya']\n",
    "'aakash' not in lst4                    #it says the value not in list if not give false"
   ]
  },
  {
   "cell_type": "code",
   "execution_count": null,
   "id": "630459e5",
   "metadata": {},
   "outputs": [],
   "source": [
    "#To identify if the element is present or not in list\n",
    "\n",
    "vegitable =  ['brinjal','tomato','potato','carrot','sweetpotato']\n",
    "name = str(input('Enter the name of vegitable:'))\n",
    "if name in vegitable:\n",
    "    print(f\" Yes Buddy {name} is in the vegitable List!\")\n",
    "else:\n",
    "    print(f\" No Buddy {name} is not in the List!\")"
   ]
  },
  {
   "cell_type": "code",
   "execution_count": 2,
   "id": "fd7779ab",
   "metadata": {},
   "outputs": [],
   "source": [
    "#multiple assignment trick\n",
    "\n",
    "dog = ['fat', 'white', 'loud']\n",
    "\n",
    "size = dog[0]\n",
    "white = dog[1]\n",
    "disposition = dog[2]\n",
    "dog = size,white,disposition"
   ]
  },
  {
   "cell_type": "code",
   "execution_count": 4,
   "id": "18ccea7a",
   "metadata": {},
   "outputs": [
    {
     "name": "stdout",
     "output_type": "stream",
     "text": [
      "('fat', 'white', 'loud')\n"
     ]
    }
   ],
   "source": [
    "print(dog)"
   ]
  },
  {
   "cell_type": "code",
   "execution_count": 6,
   "id": "7509eeda",
   "metadata": {},
   "outputs": [
    {
     "name": "stdout",
     "output_type": "stream",
     "text": [
      "50\n"
     ]
    }
   ],
   "source": [
    "#Augmented Assignment Operators\n",
    "\n",
    "value = 20\n",
    "value += 30  #+= is called augmented assignment operators\n",
    "print(value)"
   ]
  },
  {
   "cell_type": "markdown",
   "id": "e805b623",
   "metadata": {},
   "source": [
    "# Adding Values to Lists with the append() and insert() Methods"
   ]
  },
  {
   "cell_type": "markdown",
   "id": "b6a9a605",
   "metadata": {},
   "source": [
    "The previous append() method call adds the argument to the end of\n",
    "the list.The insert() method can insert a value at any index in the list. \n",
    "\n",
    "These methods will work only with Lists otherwise will throw an error like str or dict type of object has no attribute append or inser."
   ]
  },
  {
   "cell_type": "code",
   "execution_count": 3,
   "id": "11ac5031",
   "metadata": {},
   "outputs": [],
   "source": [
    "#append\n",
    "devices = ['laptop','mobile','smartwatch','earphones']\n",
    "devices.append('tablet')"
   ]
  },
  {
   "cell_type": "code",
   "execution_count": 4,
   "id": "f8b1e33e",
   "metadata": {},
   "outputs": [
    {
     "name": "stdout",
     "output_type": "stream",
     "text": [
      "['laptop', 'mobile', 'smartwatch', 'earphones', 'tablet']\n"
     ]
    }
   ],
   "source": [
    "print(devices)"
   ]
  },
  {
   "cell_type": "code",
   "execution_count": 5,
   "id": "77ee1c91",
   "metadata": {},
   "outputs": [],
   "source": [
    "#insertion in list\n",
    "device = ['laptop','mobile','smartwatch','earphones']\n",
    "device.insert(1,'TV')"
   ]
  },
  {
   "cell_type": "code",
   "execution_count": 6,
   "id": "21afb0b6",
   "metadata": {},
   "outputs": [
    {
     "name": "stdout",
     "output_type": "stream",
     "text": [
      "['laptop', 'TV', 'mobile', 'smartwatch', 'earphones']\n"
     ]
    }
   ],
   "source": [
    "print(device)"
   ]
  },
  {
   "cell_type": "code",
   "execution_count": 7,
   "id": "18b18526",
   "metadata": {},
   "outputs": [],
   "source": [
    "#remove method\n",
    "animals = ['ardvark','lion','tiger','elephant']"
   ]
  },
  {
   "cell_type": "code",
   "execution_count": 8,
   "id": "1a3367f6",
   "metadata": {},
   "outputs": [],
   "source": [
    "animals.remove('lion')"
   ]
  },
  {
   "cell_type": "code",
   "execution_count": 10,
   "id": "ada6489e",
   "metadata": {},
   "outputs": [
    {
     "data": {
      "text/plain": [
       "['ardvark', 'tiger', 'elephant']"
      ]
     },
     "execution_count": 10,
     "metadata": {},
     "output_type": "execute_result"
    }
   ],
   "source": [
    "animals"
   ]
  },
  {
   "cell_type": "code",
   "execution_count": 11,
   "id": "12cfcdc5",
   "metadata": {},
   "outputs": [],
   "source": [
    "if 'cat' not in animals:\n",
    "    animals.append('cat')\n",
    "else:\n",
    "    print('you are appending same element!')"
   ]
  },
  {
   "cell_type": "code",
   "execution_count": 13,
   "id": "261a374b",
   "metadata": {},
   "outputs": [
    {
     "data": {
      "text/plain": [
       "['ardvark', 'tiger', 'elephant', 'cat']"
      ]
     },
     "execution_count": 13,
     "metadata": {},
     "output_type": "execute_result"
    }
   ],
   "source": [
    "animals"
   ]
  },
  {
   "cell_type": "code",
   "execution_count": 14,
   "id": "be11fe83",
   "metadata": {},
   "outputs": [],
   "source": [
    "if 'jaguar' not in animals:\n",
    "    animals.insert(1,'jaguar')\n",
    "else:\n",
    "    print('you are inserting the same element!')"
   ]
  },
  {
   "cell_type": "code",
   "execution_count": 16,
   "id": "5041c1f2",
   "metadata": {},
   "outputs": [
    {
     "data": {
      "text/plain": [
       "['ardvark', 'jaguar', 'tiger', 'elephant', 'cat']"
      ]
     },
     "execution_count": 16,
     "metadata": {},
     "output_type": "execute_result"
    }
   ],
   "source": [
    "animals"
   ]
  },
  {
   "cell_type": "code",
   "execution_count": 31,
   "id": "d68efdcf",
   "metadata": {},
   "outputs": [
    {
     "name": "stdout",
     "output_type": "stream",
     "text": [
      "ardvark\n",
      "jaguar\n",
      "tiger\n",
      "elephant\n",
      "cat\n"
     ]
    }
   ],
   "source": [
    "for animal in range(len(animals)):\n",
    "    #print(animal)\n",
    "    print(animals[animal])  #using for loop this will print all the elements in list."
   ]
  },
  {
   "cell_type": "markdown",
   "id": "a88e1e24",
   "metadata": {},
   "source": [
    "# Sorting the Values in a List with the sort() Method"
   ]
  },
  {
   "cell_type": "code",
   "execution_count": 4,
   "id": "760c4f3d",
   "metadata": {},
   "outputs": [],
   "source": [
    "#sort()\n",
    "sort1 = [2.3,4.5,-9,10,-10,5,-7,23,22.9]\n",
    "sort1.sort()"
   ]
  },
  {
   "cell_type": "code",
   "execution_count": 6,
   "id": "71532a95",
   "metadata": {},
   "outputs": [
    {
     "name": "stdout",
     "output_type": "stream",
     "text": [
      "[-10, -9, -7, 2.3, 4.5, 5, 10, 22.9, 23]\n"
     ]
    }
   ],
   "source": [
    "print(sort1)"
   ]
  },
  {
   "cell_type": "markdown",
   "id": "02325257",
   "metadata": {},
   "source": [
    "Sorted() and Sort()- There are two methods!\n",
    "\n",
    "difference between them -\n",
    "\n",
    "->sort() function is very similar to sorted() but unlike sorted it returns nothing and makes changes to the original sequence.\n",
    "and sorted() method sorts the given sequence either in ascending order or in descending order and always return the a sorted list. This method doesnot effect the original sequence."
   ]
  },
  {
   "cell_type": "code",
   "execution_count": 10,
   "id": "e1a0eb3d",
   "metadata": {},
   "outputs": [
    {
     "name": "stdout",
     "output_type": "stream",
     "text": [
      "['e', 'p', 'q', 'r', 'y', 'z']\n"
     ]
    }
   ],
   "source": [
    "#sorted\n",
    "\n",
    "string = ['z','p','q','r','e','y']\n",
    "\n",
    "print(sorted(string))"
   ]
  },
  {
   "cell_type": "code",
   "execution_count": 12,
   "id": "8e42b1e1",
   "metadata": {},
   "outputs": [
    {
     "name": "stdout",
     "output_type": "stream",
     "text": [
      "['z', 'y', 'r', 'q', 'p', 'e']\n"
     ]
    }
   ],
   "source": [
    "#sorted reverse\n",
    "string2 = ['z','p','q','r','e','y']\n",
    "print(sorted(string2, reverse = True))"
   ]
  },
  {
   "cell_type": "markdown",
   "id": "a3299bad",
   "metadata": {},
   "source": [
    "# The Tuple Data Type"
   ]
  },
  {
   "cell_type": "markdown",
   "id": "ebdfb2ef",
   "metadata": {},
   "source": [
    "Tuples are immutable. Tuples cannot have their values modified,\n",
    "appended, or removed."
   ]
  },
  {
   "cell_type": "code",
   "execution_count": 14,
   "id": "388d7e23",
   "metadata": {},
   "outputs": [
    {
     "data": {
      "text/plain": [
       "2"
      ]
     },
     "execution_count": 14,
     "metadata": {},
     "output_type": "execute_result"
    }
   ],
   "source": [
    "#tuples with indexing\n",
    "tuples = (1,2,3,4,5,6)\n",
    "tuples[1]"
   ]
  },
  {
   "cell_type": "code",
   "execution_count": 16,
   "id": "653e2eab",
   "metadata": {},
   "outputs": [
    {
     "ename": "TypeError",
     "evalue": "'tuple' object does not support item assignment",
     "output_type": "error",
     "traceback": [
      "\u001b[1;31m---------------------------------------------------------------------------\u001b[0m",
      "\u001b[1;31mTypeError\u001b[0m                                 Traceback (most recent call last)",
      "\u001b[1;32m~\\AppData\\Local\\Temp/ipykernel_5684/2204525184.py\u001b[0m in \u001b[0;36m<module>\u001b[1;34m\u001b[0m\n\u001b[1;32m----> 1\u001b[1;33m \u001b[0mtuples\u001b[0m\u001b[1;33m[\u001b[0m\u001b[1;36m2\u001b[0m\u001b[1;33m]\u001b[0m \u001b[1;33m=\u001b[0m\u001b[1;36m8\u001b[0m  \u001b[1;31m#will throw an error as in tuples we cannot change the values\u001b[0m\u001b[1;33m\u001b[0m\u001b[1;33m\u001b[0m\u001b[0m\n\u001b[0m",
      "\u001b[1;31mTypeError\u001b[0m: 'tuple' object does not support item assignment"
     ]
    }
   ],
   "source": [
    "tuples[2] =8  #will throw an error as in tuples we cannot change the values"
   ]
  },
  {
   "cell_type": "code",
   "execution_count": 18,
   "id": "7a21b11e",
   "metadata": {},
   "outputs": [
    {
     "data": {
      "text/plain": [
       "(2, 3, 4)"
      ]
     },
     "execution_count": 18,
     "metadata": {},
     "output_type": "execute_result"
    }
   ],
   "source": [
    "tuples[1:4]  #slicing"
   ]
  },
  {
   "cell_type": "code",
   "execution_count": 19,
   "id": "e94a7d9f",
   "metadata": {},
   "outputs": [
    {
     "data": {
      "text/plain": [
       "(3, 4, 5, 6)"
      ]
     },
     "execution_count": 19,
     "metadata": {},
     "output_type": "execute_result"
    }
   ],
   "source": [
    "tuples[2:]"
   ]
  },
  {
   "cell_type": "code",
   "execution_count": 20,
   "id": "0c9d6714",
   "metadata": {},
   "outputs": [],
   "source": [
    "tuples = ('aakash',)"
   ]
  },
  {
   "cell_type": "code",
   "execution_count": 21,
   "id": "21d4425d",
   "metadata": {},
   "outputs": [
    {
     "data": {
      "text/plain": [
       "tuple"
      ]
     },
     "execution_count": 21,
     "metadata": {},
     "output_type": "execute_result"
    }
   ],
   "source": [
    "type(tuples)"
   ]
  },
  {
   "cell_type": "markdown",
   "id": "016bffa5",
   "metadata": {},
   "source": [
    "# Passing References"
   ]
  },
  {
   "cell_type": "code",
   "execution_count": 25,
   "id": "6a9d2c78",
   "metadata": {},
   "outputs": [
    {
     "name": "stdout",
     "output_type": "stream",
     "text": [
      "['lily', 'billy', 'tommy', 'jhonny']\n"
     ]
    }
   ],
   "source": [
    "#defines the argument reference\n",
    "def name(petname):\n",
    "    petname.append('jhonny')\n",
    "\n",
    "\n",
    "passing_name = ['lily','billy','tommy']\n",
    "name(passing_name) #passing_name refers to petname argument\n",
    "print(passing_name)    "
   ]
  },
  {
   "cell_type": "markdown",
   "id": "651927f8",
   "metadata": {},
   "source": [
    "# The copy Module’s copy() and deepcopy() Functions"
   ]
  },
  {
   "cell_type": "code",
   "execution_count": 26,
   "id": "0634a32b",
   "metadata": {},
   "outputs": [],
   "source": [
    "import copy\n",
    "\n",
    "city = ['new-delhi','mumbai','bhopal','varanasi']\n",
    "\n",
    "add_city = copy.copy(city)\n",
    "\n",
    "add_city[3] = 'mysore'"
   ]
  },
  {
   "cell_type": "code",
   "execution_count": 28,
   "id": "f41ca8fb",
   "metadata": {},
   "outputs": [
    {
     "name": "stdout",
     "output_type": "stream",
     "text": [
      "['new-delhi', 'mumbai', 'bhopal', 'varanasi']\n"
     ]
    }
   ],
   "source": [
    "print(city)"
   ]
  },
  {
   "cell_type": "code",
   "execution_count": 29,
   "id": "a0d2a6df",
   "metadata": {},
   "outputs": [
    {
     "name": "stdout",
     "output_type": "stream",
     "text": [
      "['new-delhi', 'mumbai', 'bhopal', 'mysore']\n"
     ]
    }
   ],
   "source": [
    "print(add_city)"
   ]
  },
  {
   "cell_type": "code",
   "execution_count": null,
   "id": "35926caa",
   "metadata": {},
   "outputs": [],
   "source": []
  }
 ],
 "metadata": {
  "kernelspec": {
   "display_name": "Python 3 (ipykernel)",
   "language": "python",
   "name": "python3"
  },
  "language_info": {
   "codemirror_mode": {
    "name": "ipython",
    "version": 3
   },
   "file_extension": ".py",
   "mimetype": "text/x-python",
   "name": "python",
   "nbconvert_exporter": "python",
   "pygments_lexer": "ipython3",
   "version": "3.8.10"
  }
 },
 "nbformat": 4,
 "nbformat_minor": 5
}
