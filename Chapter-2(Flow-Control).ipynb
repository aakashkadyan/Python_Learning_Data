{
 "cells": [
  {
   "cell_type": "code",
   "execution_count": 2,
   "id": "9f8ca85e",
   "metadata": {},
   "outputs": [
    {
     "data": {
      "text/plain": [
       "False"
      ]
     },
     "execution_count": 2,
     "metadata": {},
     "output_type": "execute_result"
    }
   ],
   "source": [
    "#comparision operator\n",
    "42==56"
   ]
  },
  {
   "cell_type": "code",
   "execution_count": 3,
   "id": "72f5ed75",
   "metadata": {},
   "outputs": [
    {
     "data": {
      "text/plain": [
       "False"
      ]
     },
     "execution_count": 3,
     "metadata": {},
     "output_type": "execute_result"
    }
   ],
   "source": [
    "56>67"
   ]
  },
  {
   "cell_type": "code",
   "execution_count": 4,
   "id": "4c52c269",
   "metadata": {},
   "outputs": [
    {
     "data": {
      "text/plain": [
       "False"
      ]
     },
     "execution_count": 4,
     "metadata": {},
     "output_type": "execute_result"
    }
   ],
   "source": [
    "988==665"
   ]
  },
  {
   "cell_type": "code",
   "execution_count": 5,
   "id": "decf0772",
   "metadata": {},
   "outputs": [
    {
     "data": {
      "text/plain": [
       "True"
      ]
     },
     "execution_count": 5,
     "metadata": {},
     "output_type": "execute_result"
    }
   ],
   "source": [
    "9==9"
   ]
  },
  {
   "cell_type": "code",
   "execution_count": 6,
   "id": "cd9a299e",
   "metadata": {},
   "outputs": [
    {
     "data": {
      "text/plain": [
       "True"
      ]
     },
     "execution_count": 6,
     "metadata": {},
     "output_type": "execute_result"
    }
   ],
   "source": [
    "(4<7) and (4*2<9)"
   ]
  },
  {
   "cell_type": "code",
   "execution_count": 7,
   "id": "6d3a9daa",
   "metadata": {},
   "outputs": [
    {
     "data": {
      "text/plain": [
       "False"
      ]
     },
     "execution_count": 7,
     "metadata": {},
     "output_type": "execute_result"
    }
   ],
   "source": [
    "(77+87<99) and (87+77<190)"
   ]
  },
  {
   "cell_type": "code",
   "execution_count": 2,
   "id": "ce9a1fba",
   "metadata": {},
   "outputs": [
    {
     "name": "stdout",
     "output_type": "stream",
     "text": [
      "aba\n",
      "123\n",
      "Not granted\n"
     ]
    }
   ],
   "source": [
    "#a simple condition based program of flow control\n",
    "name2 = input()\n",
    "pwd = int(input())\n",
    "if name2 == 'Aakash':\n",
    "    if pwd == 123456:\n",
    "        print(\"Access Granted\")\n",
    "else:\n",
    "    print('Not granted')\n"
   ]
  },
  {
   "cell_type": "code",
   "execution_count": 13,
   "id": "7a23cc4b",
   "metadata": {},
   "outputs": [
    {
     "name": "stdout",
     "output_type": "stream",
     "text": [
      "ravi\n",
      "34\n",
      "Hey who are you!\n"
     ]
    }
   ],
   "source": [
    "name = str(input())\n",
    "age = int(input())\n",
    "if name =='Aakash':\n",
    "    print(f\"Hello!, {name}\")\n",
    "elif age < 23:\n",
    "    print(f'You are {name}')\n",
    "elif age > 23:\n",
    "    print('Hey who are you!')"
   ]
  },
  {
   "cell_type": "code",
   "execution_count": 2,
   "id": "d5c50963",
   "metadata": {},
   "outputs": [
    {
     "name": "stdout",
     "output_type": "stream",
     "text": [
      "Hey Buddy!\n",
      "Hey Buddy!\n",
      "Hey Buddy!\n",
      "Hey Buddy!\n",
      "Hey Buddy!\n",
      "you are out of loop now!\n"
     ]
    }
   ],
   "source": [
    "#while loop\n",
    "\n",
    "count = 0\n",
    "while count < 5:\n",
    "    print('Hey Buddy!')\n",
    "    count += 1\n",
    "print('you are out of loop now!')    # you are now out of loop as the condition is false now after 5."
   ]
  },
  {
   "cell_type": "code",
   "execution_count": 10,
   "id": "f40102a4",
   "metadata": {},
   "outputs": [
    {
     "name": "stdout",
     "output_type": "stream",
     "text": [
      "Enter your name: Abaha\n",
      "Enter your name: Abhay\n",
      "Enter your name: ravi\n",
      "Enter your name: Aakash\n",
      "Thanks you entered correct name!\n"
     ]
    }
   ],
   "source": [
    "#name asking loop \n",
    "\n",
    "name =\"\"\n",
    "while name != 'Aakash':\n",
    "    name = str(input('Enter your name: ')) \n",
    "    \n",
    "print('Thanks you entered correct name!')    "
   ]
  },
  {
   "cell_type": "code",
   "execution_count": null,
   "id": "c08aeab2",
   "metadata": {},
   "outputs": [
    {
     "name": "stdout",
     "output_type": "stream",
     "text": [
      "Enter your name: aas\n",
      "Enter your name: aakash\n",
      "Enter your name: aaa\n",
      "Enter your name: aaa\n",
      "Enter your name: aaa\n"
     ]
    }
   ],
   "source": [
    "#infinite loop\n",
    "while True:  #condition is always true that means it is an infinte loop\n",
    "    name = str(input('Enter your name: '))\n",
    "    #break\n",
    "    \n",
    "print('Thanks you entered correct name!')    \n",
    "\n"
   ]
  },
  {
   "cell_type": "code",
   "execution_count": 1,
   "id": "575a9368",
   "metadata": {},
   "outputs": [
    {
     "name": "stdout",
     "output_type": "stream",
     "text": [
      "Enter your name: Aakash\n",
      "Thanks you entered correct name!\n"
     ]
    }
   ],
   "source": [
    "#break statement,\n",
    "while True:  \n",
    "    name = str(input('Enter your name: '))\n",
    "    break\n",
    "    \n",
    "print('Thanks you entered correct name!')"
   ]
  },
  {
   "cell_type": "code",
   "execution_count": 2,
   "id": "a638a607",
   "metadata": {},
   "outputs": [
    {
     "name": "stdout",
     "output_type": "stream",
     "text": [
      "Enter your name: Aak\n",
      "Enter your name: Aakash\n",
      "Hello Aakash!\n",
      "Thanks you entered correct name!\n"
     ]
    }
   ],
   "source": [
    "#continue  statement\n",
    "\n",
    "while True:  \n",
    "    name = str(input('Enter your name: '))\n",
    "    if name != 'Aakash':\n",
    "        continue\n",
    "    print('Hello Aakash!')\n",
    "    break\n",
    "    \n",
    "print('Thanks you entered correct name!')"
   ]
  },
  {
   "cell_type": "code",
   "execution_count": 13,
   "id": "9f81b26f",
   "metadata": {},
   "outputs": [
    {
     "name": "stdout",
     "output_type": "stream",
     "text": [
      "I am printing my name here:\n",
      "Aakash Kadiyan! 0\n",
      "Aakash Kadiyan! 1\n",
      "Aakash Kadiyan! 2\n",
      "Aakash Kadiyan! 3\n",
      "Aakash Kadiyan! 4\n",
      "Loops ends here!\n"
     ]
    }
   ],
   "source": [
    "#for loops & Range function\n",
    "\n",
    "print(\"I am printing my name here:\")\n",
    "for i in range(5):\n",
    "    print(\"Aakash Kadiyan! \" + str(i))\n",
    "print(\"Loops ends here!\")    "
   ]
  },
  {
   "cell_type": "code",
   "execution_count": 14,
   "id": "235477a1",
   "metadata": {},
   "outputs": [
    {
     "name": "stdout",
     "output_type": "stream",
     "text": [
      "5050\n"
     ]
    }
   ],
   "source": [
    "#for loop\n",
    "total = 0\n",
    "\n",
    "for i in range(101):\n",
    "    total = total+i\n",
    "print(total)    "
   ]
  },
  {
   "cell_type": "code",
   "execution_count": 17,
   "id": "ad41c4bb",
   "metadata": {},
   "outputs": [
    {
     "name": "stdout",
     "output_type": "stream",
     "text": [
      "6\n",
      "7\n",
      "8\n",
      "9\n"
     ]
    }
   ],
   "source": [
    "#The Starting, Stopping, and Stepping Arguments to range\n",
    "\n",
    "for i in range(6,10):\n",
    "    print(i)"
   ]
  },
  {
   "cell_type": "code",
   "execution_count": 18,
   "id": "1cbc5a2e",
   "metadata": {},
   "outputs": [
    {
     "name": "stdout",
     "output_type": "stream",
     "text": [
      "30\n",
      "35\n",
      "40\n",
      "45\n",
      "50\n"
     ]
    }
   ],
   "source": [
    "#stepping\n",
    "for i in range(30, 55, 5):\n",
    "    print(i)"
   ]
  },
  {
   "cell_type": "code",
   "execution_count": 20,
   "id": "4bc7929b",
   "metadata": {},
   "outputs": [
    {
     "name": "stdout",
     "output_type": "stream",
     "text": [
      "10\n",
      "6\n",
      "2\n"
     ]
    }
   ],
   "source": [
    "#negative stepping\n",
    "for i in range(10, -1, -4):\n",
    "    print(i)"
   ]
  },
  {
   "cell_type": "markdown",
   "id": "d76f4db8",
   "metadata": {},
   "source": [
    "# Importing Modules\n",
    "\n",
    "1.) The import keyword\n",
    "2.) The name of the module\n",
    "3.) Optionally, more module names, as long as they are separated by\n",
    "    commas\n",
    "    \n",
    "you can see this Module and their use in code snipit!!    "
   ]
  },
  {
   "cell_type": "code",
   "execution_count": 1,
   "id": "00ed7f51",
   "metadata": {},
   "outputs": [
    {
     "name": "stdout",
     "output_type": "stream",
     "text": [
      "2\n",
      "2\n",
      "10\n",
      "10\n",
      "5\n"
     ]
    }
   ],
   "source": [
    "import random\n",
    "for i in range (5):\n",
    "    print(random.randint(1,10))"
   ]
  },
  {
   "cell_type": "code",
   "execution_count": 11,
   "id": "d8430fc4",
   "metadata": {},
   "outputs": [
    {
     "name": "stdout",
     "output_type": "stream",
     "text": [
      "Enter the no for table: 12\n"
     ]
    }
   ],
   "source": [
    "#print tables\n",
    "def table(y):\n",
    "    for i in range(1,11):\n",
    "        print(f\"{y} x {i}\" + ' = ' + str(y*i))\n",
    "        \n",
    "number = int(input(\"Enter the no for table: \"))        "
   ]
  },
  {
   "cell_type": "code",
   "execution_count": 13,
   "id": "793510ea",
   "metadata": {},
   "outputs": [
    {
     "name": "stdout",
     "output_type": "stream",
     "text": [
      "12 x 1 = 12\n",
      "12 x 2 = 24\n",
      "12 x 3 = 36\n",
      "12 x 4 = 48\n",
      "12 x 5 = 60\n",
      "12 x 6 = 72\n",
      "12 x 7 = 84\n",
      "12 x 8 = 96\n",
      "12 x 9 = 108\n",
      "12 x 10 = 120\n"
     ]
    }
   ],
   "source": [
    "table(number)"
   ]
  },
  {
   "cell_type": "code",
   "execution_count": 14,
   "id": "79dd799b",
   "metadata": {},
   "outputs": [
    {
     "name": "stdout",
     "output_type": "stream",
     "text": [
      "Enter the Number: 13\n"
     ]
    }
   ],
   "source": [
    "def oddEve(x):\n",
    "    y = x%2\n",
    "    if y == 0:\n",
    "        print(\"Number is Even!\")\n",
    "    else:\n",
    "        print(\"Number is odd!\")\n",
    "num = int(input(\"Enter the Number: \"))        "
   ]
  },
  {
   "cell_type": "code",
   "execution_count": 15,
   "id": "f0dc6abd",
   "metadata": {},
   "outputs": [
    {
     "name": "stdout",
     "output_type": "stream",
     "text": [
      "Number is odd!\n"
     ]
    }
   ],
   "source": [
    "oddEve(num)"
   ]
  }
 ],
 "metadata": {
  "kernelspec": {
   "display_name": "Python 3 (ipykernel)",
   "language": "python",
   "name": "python3"
  },
  "language_info": {
   "codemirror_mode": {
    "name": "ipython",
    "version": 3
   },
   "file_extension": ".py",
   "mimetype": "text/x-python",
   "name": "python",
   "nbconvert_exporter": "python",
   "pygments_lexer": "ipython3",
   "version": "3.8.10"
  }
 },
 "nbformat": 4,
 "nbformat_minor": 5
}
