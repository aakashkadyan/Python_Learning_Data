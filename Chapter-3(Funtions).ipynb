{
 "cells": [
  {
   "cell_type": "markdown",
   "id": "113de0c4",
   "metadata": {},
   "source": [
    "# function - A function is like a mini program within a program"
   ]
  },
  {
   "cell_type": "code",
   "execution_count": 2,
   "id": "62d593ac",
   "metadata": {},
   "outputs": [],
   "source": [
    "#def keyword and function name.\n",
    "def hello():\n",
    "    print('hello i am learning functions here!')"
   ]
  },
  {
   "cell_type": "code",
   "execution_count": 3,
   "id": "e1c8984b",
   "metadata": {},
   "outputs": [
    {
     "name": "stdout",
     "output_type": "stream",
     "text": [
      "hello i am learning functions here!\n"
     ]
    }
   ],
   "source": [
    "hello()"
   ]
  },
  {
   "cell_type": "code",
   "execution_count": 2,
   "id": "d824e3b9",
   "metadata": {},
   "outputs": [],
   "source": [
    "#passing arguments\n",
    "def passing(name):\n",
    "    print('Hi ' + name)"
   ]
  },
  {
   "cell_type": "code",
   "execution_count": 3,
   "id": "5131149b",
   "metadata": {},
   "outputs": [
    {
     "name": "stdout",
     "output_type": "stream",
     "text": [
      "Hi Aakash\n"
     ]
    }
   ],
   "source": [
    "passing('Aakash')"
   ]
  },
  {
   "cell_type": "markdown",
   "id": "7573995b",
   "metadata": {},
   "source": [
    "---Return Values and return Statements---"
   ]
  },
  {
   "cell_type": "code",
   "execution_count": 1,
   "id": "60acbda7",
   "metadata": {},
   "outputs": [
    {
     "name": "stdout",
     "output_type": "stream",
     "text": [
      "Enter 1st number: 2\n",
      "Enter 2nd number: 3\n"
     ]
    }
   ],
   "source": [
    "def add(a,b):\n",
    "    c = a+b\n",
    "    return c\n",
    "\n",
    "x = int(input('Enter 1st number: '))  #so it will return c to add() which takes 2 arguments.\n",
    "y = int(input('Enter 2nd number: '))"
   ]
  },
  {
   "cell_type": "code",
   "execution_count": 3,
   "id": "4364b77d",
   "metadata": {},
   "outputs": [
    {
     "name": "stdout",
     "output_type": "stream",
     "text": [
      "5\n"
     ]
    }
   ],
   "source": [
    "z= add(x,y)\n",
    "print(z)"
   ]
  },
  {
   "cell_type": "markdown",
   "id": "631f5217",
   "metadata": {},
   "source": [
    "----Global and Local variable scope in a Funciton----"
   ]
  },
  {
   "cell_type": "code",
   "execution_count": 5,
   "id": "d73b2aaf",
   "metadata": {},
   "outputs": [],
   "source": [
    "def value():\n",
    "    number = 35"
   ]
  },
  {
   "cell_type": "code",
   "execution_count": 9,
   "id": "e169502a",
   "metadata": {},
   "outputs": [
    {
     "ename": "NameError",
     "evalue": "name 'number' is not defined",
     "output_type": "error",
     "traceback": [
      "\u001b[1;31m---------------------------------------------------------------------------\u001b[0m",
      "\u001b[1;31mNameError\u001b[0m                                 Traceback (most recent call last)",
      "\u001b[1;32m~\\AppData\\Local\\Temp/ipykernel_3988/3130894327.py\u001b[0m in \u001b[0;36m<module>\u001b[1;34m\u001b[0m\n\u001b[0;32m      1\u001b[0m \u001b[0mvalue\u001b[0m\u001b[1;33m(\u001b[0m\u001b[1;33m)\u001b[0m\u001b[1;33m\u001b[0m\u001b[1;33m\u001b[0m\u001b[0m\n\u001b[1;32m----> 2\u001b[1;33m \u001b[0mprint\u001b[0m\u001b[1;33m(\u001b[0m\u001b[0mnumber\u001b[0m\u001b[1;33m)\u001b[0m   \u001b[1;31m#An error occurs because the variable number defined within a local scope of a function\u001b[0m\u001b[1;33m\u001b[0m\u001b[1;33m\u001b[0m\u001b[0m\n\u001b[0m",
      "\u001b[1;31mNameError\u001b[0m: name 'number' is not defined"
     ]
    }
   ],
   "source": [
    "value()\n",
    "print(number)   #An error occurs because the variable number defined within a local scope of a function"
   ]
  },
  {
   "cell_type": "markdown",
   "id": "1f53a4da",
   "metadata": {},
   "source": [
    "----what if two variables having same name but in different scope------"
   ]
  },
  {
   "cell_type": "code",
   "execution_count": 16,
   "id": "7347009f",
   "metadata": {},
   "outputs": [],
   "source": [
    "def A():\n",
    "    number = 23\n",
    "    name = 'Aakash'\n",
    "    print(name)     #because the scopes are different so we can get the values of same name variable.\n",
    "def B():\n",
    "    name ='Vikas'\n",
    "    Age = 26\n",
    "    print(name)"
   ]
  },
  {
   "cell_type": "code",
   "execution_count": 17,
   "id": "25cbe70f",
   "metadata": {},
   "outputs": [
    {
     "name": "stdout",
     "output_type": "stream",
     "text": [
      "Aakash\n"
     ]
    }
   ],
   "source": [
    "A()"
   ]
  },
  {
   "cell_type": "code",
   "execution_count": 19,
   "id": "366ab79c",
   "metadata": {},
   "outputs": [
    {
     "name": "stdout",
     "output_type": "stream",
     "text": [
      "Vikas\n"
     ]
    }
   ],
   "source": [
    "B()"
   ]
  },
  {
   "cell_type": "code",
   "execution_count": 21,
   "id": "e3fa6b3b",
   "metadata": {},
   "outputs": [],
   "source": [
    "#Global Variables and their scope\n",
    "def scope():\n",
    "    print(value)\n",
    "value = 23    #varibale defined globally so we can access this from outside"
   ]
  },
  {
   "cell_type": "code",
   "execution_count": 24,
   "id": "935db265",
   "metadata": {},
   "outputs": [
    {
     "name": "stdout",
     "output_type": "stream",
     "text": [
      "23\n",
      "23\n"
     ]
    }
   ],
   "source": [
    "scope()\n",
    "print(value)"
   ]
  },
  {
   "cell_type": "code",
   "execution_count": 26,
   "id": "80e7b128",
   "metadata": {},
   "outputs": [],
   "source": [
    "def add():\n",
    "    global a,b,c #to declare variables globally with in function\n",
    "    a = 2\n",
    "    b = 3\n",
    "    c = a + b    "
   ]
  },
  {
   "cell_type": "code",
   "execution_count": 28,
   "id": "1887209d",
   "metadata": {},
   "outputs": [],
   "source": [
    "add()"
   ]
  },
  {
   "cell_type": "code",
   "execution_count": 30,
   "id": "b58590fb",
   "metadata": {},
   "outputs": [
    {
     "name": "stdout",
     "output_type": "stream",
     "text": [
      "5\n"
     ]
    }
   ],
   "source": [
    "print(c)"
   ]
  },
  {
   "cell_type": "code",
   "execution_count": 32,
   "id": "661f6e0e",
   "metadata": {},
   "outputs": [],
   "source": [
    "def subtract():\n",
    "    print(c)\n",
    "    \n",
    "a = 34\n",
    "b = 29         #to declare global variables outside function\n",
    "c = a - b"
   ]
  },
  {
   "cell_type": "code",
   "execution_count": 34,
   "id": "0bd1637a",
   "metadata": {},
   "outputs": [
    {
     "name": "stdout",
     "output_type": "stream",
     "text": [
      "5\n"
     ]
    }
   ],
   "source": [
    "subtract()"
   ]
  },
  {
   "cell_type": "code",
   "execution_count": 35,
   "id": "ad74941d",
   "metadata": {},
   "outputs": [],
   "source": [
    "def fruit():\n",
    "    name = 'Apple'    #Local varibale\n",
    "    print(name)\n",
    "def vegitable():\n",
    "    print(name)\n",
    "name = 'potato'      #Global Variable\n",
    "def colors():\n",
    "    global names    #global Variable\n",
    "    print(names)\n",
    "names = 'White'\n",
    "def festival():\n",
    "    name = 'diwali' #Local variable\n",
    "    print(name)\n",
    "    "
   ]
  },
  {
   "cell_type": "code",
   "execution_count": 38,
   "id": "ebd2b717",
   "metadata": {},
   "outputs": [
    {
     "name": "stdout",
     "output_type": "stream",
     "text": [
      "potato\n"
     ]
    }
   ],
   "source": [
    "vegitable()"
   ]
  },
  {
   "cell_type": "code",
   "execution_count": 40,
   "id": "2ba9a6a4",
   "metadata": {},
   "outputs": [
    {
     "name": "stdout",
     "output_type": "stream",
     "text": [
      "White\n"
     ]
    }
   ],
   "source": [
    "colors()"
   ]
  },
  {
   "cell_type": "code",
   "execution_count": 42,
   "id": "0643a247",
   "metadata": {},
   "outputs": [
    {
     "name": "stdout",
     "output_type": "stream",
     "text": [
      "diwali\n"
     ]
    }
   ],
   "source": [
    "festival()"
   ]
  },
  {
   "cell_type": "code",
   "execution_count": 48,
   "id": "8b283d84",
   "metadata": {},
   "outputs": [],
   "source": [
    "def device():\n",
    "    print(name)     #will throw an error because we defined local variable name to 'Mobile' before assignment of name to 'laptop' \n",
    "    name = 'Mobile'\n",
    "    \n",
    "name = 'Laptop'    "
   ]
  },
  {
   "cell_type": "code",
   "execution_count": 50,
   "id": "f6db41c5",
   "metadata": {},
   "outputs": [
    {
     "ename": "UnboundLocalError",
     "evalue": "local variable 'name' referenced before assignment",
     "output_type": "error",
     "traceback": [
      "\u001b[1;31m---------------------------------------------------------------------------\u001b[0m",
      "\u001b[1;31mUnboundLocalError\u001b[0m                         Traceback (most recent call last)",
      "\u001b[1;32m~\\AppData\\Local\\Temp/ipykernel_3988/2138518085.py\u001b[0m in \u001b[0;36m<module>\u001b[1;34m\u001b[0m\n\u001b[1;32m----> 1\u001b[1;33m \u001b[0mdevice\u001b[0m\u001b[1;33m(\u001b[0m\u001b[1;33m)\u001b[0m\u001b[1;33m\u001b[0m\u001b[1;33m\u001b[0m\u001b[0m\n\u001b[0m",
      "\u001b[1;32m~\\AppData\\Local\\Temp/ipykernel_3988/4257150741.py\u001b[0m in \u001b[0;36mdevice\u001b[1;34m()\u001b[0m\n\u001b[0;32m      1\u001b[0m \u001b[1;32mdef\u001b[0m \u001b[0mdevice\u001b[0m\u001b[1;33m(\u001b[0m\u001b[1;33m)\u001b[0m\u001b[1;33m:\u001b[0m\u001b[1;33m\u001b[0m\u001b[1;33m\u001b[0m\u001b[0m\n\u001b[1;32m----> 2\u001b[1;33m     \u001b[0mprint\u001b[0m\u001b[1;33m(\u001b[0m\u001b[0mname\u001b[0m\u001b[1;33m)\u001b[0m\u001b[1;33m\u001b[0m\u001b[1;33m\u001b[0m\u001b[0m\n\u001b[0m\u001b[0;32m      3\u001b[0m     \u001b[0mname\u001b[0m \u001b[1;33m=\u001b[0m \u001b[1;34m'Mobile'\u001b[0m\u001b[1;33m\u001b[0m\u001b[1;33m\u001b[0m\u001b[0m\n\u001b[0;32m      4\u001b[0m \u001b[1;33m\u001b[0m\u001b[0m\n\u001b[0;32m      5\u001b[0m \u001b[0mname\u001b[0m \u001b[1;33m=\u001b[0m \u001b[1;34m'Laptop'\u001b[0m\u001b[1;33m\u001b[0m\u001b[1;33m\u001b[0m\u001b[0m\n",
      "\u001b[1;31mUnboundLocalError\u001b[0m: local variable 'name' referenced before assignment"
     ]
    }
   ],
   "source": [
    "device()"
   ]
  },
  {
   "cell_type": "markdown",
   "id": "1ed1b2f9",
   "metadata": {},
   "source": [
    "----Try and except statements to Handle errors----"
   ]
  },
  {
   "cell_type": "code",
   "execution_count": 2,
   "id": "0441dc9f",
   "metadata": {},
   "outputs": [
    {
     "name": "stdout",
     "output_type": "stream",
     "text": [
      "7.0\n",
      "6.0\n"
     ]
    },
    {
     "ename": "ZeroDivisionError",
     "evalue": "division by zero",
     "output_type": "error",
     "traceback": [
      "\u001b[1;31m---------------------------------------------------------------------------\u001b[0m",
      "\u001b[1;31mZeroDivisionError\u001b[0m                         Traceback (most recent call last)",
      "\u001b[1;32m~\\AppData\\Local\\Temp/ipykernel_12820/1615224509.py\u001b[0m in \u001b[0;36m<module>\u001b[1;34m\u001b[0m\n\u001b[0;32m      4\u001b[0m \u001b[0mprint\u001b[0m\u001b[1;33m(\u001b[0m\u001b[0mnum\u001b[0m\u001b[1;33m(\u001b[0m\u001b[1;36m6\u001b[0m\u001b[1;33m)\u001b[0m\u001b[1;33m)\u001b[0m\u001b[1;33m\u001b[0m\u001b[1;33m\u001b[0m\u001b[0m\n\u001b[0;32m      5\u001b[0m \u001b[0mprint\u001b[0m\u001b[1;33m(\u001b[0m\u001b[0mnum\u001b[0m\u001b[1;33m(\u001b[0m\u001b[1;36m7\u001b[0m\u001b[1;33m)\u001b[0m\u001b[1;33m)\u001b[0m   \u001b[1;31m#there are exceptions as we are dividing a number by zero\u001b[0m\u001b[1;33m\u001b[0m\u001b[1;33m\u001b[0m\u001b[0m\n\u001b[1;32m----> 6\u001b[1;33m \u001b[0mprint\u001b[0m\u001b[1;33m(\u001b[0m\u001b[0mnum\u001b[0m\u001b[1;33m(\u001b[0m\u001b[1;36m0\u001b[0m\u001b[1;33m)\u001b[0m\u001b[1;33m)\u001b[0m\u001b[1;33m\u001b[0m\u001b[1;33m\u001b[0m\u001b[0m\n\u001b[0m",
      "\u001b[1;32m~\\AppData\\Local\\Temp/ipykernel_12820/1615224509.py\u001b[0m in \u001b[0;36mnum\u001b[1;34m(dividedby)\u001b[0m\n\u001b[0;32m      1\u001b[0m \u001b[1;32mdef\u001b[0m \u001b[0mnum\u001b[0m\u001b[1;33m(\u001b[0m\u001b[0mdividedby\u001b[0m\u001b[1;33m)\u001b[0m\u001b[1;33m:\u001b[0m\u001b[1;33m\u001b[0m\u001b[1;33m\u001b[0m\u001b[0m\n\u001b[1;32m----> 2\u001b[1;33m     \u001b[0mvalue\u001b[0m \u001b[1;33m=\u001b[0m \u001b[1;36m42\u001b[0m\u001b[1;33m/\u001b[0m\u001b[0mdividedby\u001b[0m\u001b[1;33m\u001b[0m\u001b[1;33m\u001b[0m\u001b[0m\n\u001b[0m\u001b[0;32m      3\u001b[0m     \u001b[1;32mreturn\u001b[0m \u001b[0mvalue\u001b[0m\u001b[1;33m\u001b[0m\u001b[1;33m\u001b[0m\u001b[0m\n\u001b[0;32m      4\u001b[0m \u001b[0mprint\u001b[0m\u001b[1;33m(\u001b[0m\u001b[0mnum\u001b[0m\u001b[1;33m(\u001b[0m\u001b[1;36m6\u001b[0m\u001b[1;33m)\u001b[0m\u001b[1;33m)\u001b[0m\u001b[1;33m\u001b[0m\u001b[1;33m\u001b[0m\u001b[0m\n\u001b[0;32m      5\u001b[0m \u001b[0mprint\u001b[0m\u001b[1;33m(\u001b[0m\u001b[0mnum\u001b[0m\u001b[1;33m(\u001b[0m\u001b[1;36m7\u001b[0m\u001b[1;33m)\u001b[0m\u001b[1;33m)\u001b[0m   \u001b[1;31m#there are exceptions as we are dividing a number by zero\u001b[0m\u001b[1;33m\u001b[0m\u001b[1;33m\u001b[0m\u001b[0m\n",
      "\u001b[1;31mZeroDivisionError\u001b[0m: division by zero"
     ]
    }
   ],
   "source": [
    "def num(dividedby):\n",
    "    value = 42/dividedby\n",
    "    return value\n",
    "print(num(6))\n",
    "print(num(7))   #there are exceptions as we are dividing a number by zero\n",
    "print(num(0))"
   ]
  },
  {
   "cell_type": "code",
   "execution_count": 7,
   "id": "acebb53c",
   "metadata": {},
   "outputs": [
    {
     "name": "stdout",
     "output_type": "stream",
     "text": [
      "7.0\n",
      "6.0\n",
      "An Unexpected Value occuered!\n",
      "None\n",
      "5.25\n",
      "4.666666666666667\n"
     ]
    }
   ],
   "source": [
    "def num(dividedby):\n",
    "    try:\n",
    "        value = 42/dividedby\n",
    "        return value\n",
    "    except ZeroDivisionError:\n",
    "        print(\"An Unexpected Value occuered!\")\n",
    "        \n",
    "print(num(6))\n",
    "print(num(7))   #Erros handled by try & except block!\n",
    "print(num(0))\n",
    "print(num(8))\n",
    "print(num(9))"
   ]
  }
 ],
 "metadata": {
  "kernelspec": {
   "display_name": "Python 3 (ipykernel)",
   "language": "python",
   "name": "python3"
  },
  "language_info": {
   "codemirror_mode": {
    "name": "ipython",
    "version": 3
   },
   "file_extension": ".py",
   "mimetype": "text/x-python",
   "name": "python",
   "nbconvert_exporter": "python",
   "pygments_lexer": "ipython3",
   "version": "3.8.10"
  }
 },
 "nbformat": 4,
 "nbformat_minor": 5
}
