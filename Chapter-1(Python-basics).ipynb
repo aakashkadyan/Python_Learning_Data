{
 "cells": [
  {
   "cell_type": "code",
   "execution_count": 2,
   "id": "fb73cc26",
   "metadata": {},
   "outputs": [
    {
     "data": {
      "text/plain": [
       "5"
      ]
     },
     "execution_count": 2,
     "metadata": {},
     "output_type": "execute_result"
    }
   ],
   "source": [
    "2+3"
   ]
  },
  {
   "cell_type": "code",
   "execution_count": 3,
   "id": "ffadf4b4",
   "metadata": {},
   "outputs": [
    {
     "data": {
      "text/plain": [
       "10"
      ]
     },
     "execution_count": 3,
     "metadata": {},
     "output_type": "execute_result"
    }
   ],
   "source": [
    "2*5"
   ]
  },
  {
   "cell_type": "code",
   "execution_count": 4,
   "id": "f4a842b2",
   "metadata": {},
   "outputs": [
    {
     "data": {
      "text/plain": [
       "1.25"
      ]
     },
     "execution_count": 4,
     "metadata": {},
     "output_type": "execute_result"
    }
   ],
   "source": [
    "5/4"
   ]
  },
  {
   "cell_type": "code",
   "execution_count": 5,
   "id": "c2e04cf3",
   "metadata": {},
   "outputs": [
    {
     "data": {
      "text/plain": [
       "8"
      ]
     },
     "execution_count": 5,
     "metadata": {},
     "output_type": "execute_result"
    }
   ],
   "source": [
    "#math operators\n",
    "\n",
    "2**3"
   ]
  },
  {
   "cell_type": "code",
   "execution_count": 6,
   "id": "88128894",
   "metadata": {},
   "outputs": [
    {
     "data": {
      "text/plain": [
       "1"
      ]
     },
     "execution_count": 6,
     "metadata": {},
     "output_type": "execute_result"
    }
   ],
   "source": [
    "5%2"
   ]
  },
  {
   "cell_type": "code",
   "execution_count": 7,
   "id": "7d00455b",
   "metadata": {},
   "outputs": [
    {
     "data": {
      "text/plain": [
       "2"
      ]
     },
     "execution_count": 7,
     "metadata": {},
     "output_type": "execute_result"
    }
   ],
   "source": [
    "17//8"
   ]
  },
  {
   "cell_type": "code",
   "execution_count": 8,
   "id": "c769b43a",
   "metadata": {},
   "outputs": [
    {
     "data": {
      "text/plain": [
       "6"
      ]
     },
     "execution_count": 8,
     "metadata": {},
     "output_type": "execute_result"
    }
   ],
   "source": [
    "91//15 #divide without reminder"
   ]
  },
  {
   "cell_type": "code",
   "execution_count": 9,
   "id": "babb7755",
   "metadata": {},
   "outputs": [
    {
     "data": {
      "text/plain": [
       "7.5"
      ]
     },
     "execution_count": 9,
     "metadata": {},
     "output_type": "execute_result"
    }
   ],
   "source": [
    "45/6"
   ]
  },
  {
   "cell_type": "code",
   "execution_count": 10,
   "id": "98f97214",
   "metadata": {},
   "outputs": [
    {
     "data": {
      "text/plain": [
       "62"
      ]
     },
     "execution_count": 10,
     "metadata": {},
     "output_type": "execute_result"
    }
   ],
   "source": [
    "(7-1)*(8+2)-(19-21)"
   ]
  },
  {
   "cell_type": "code",
   "execution_count": 11,
   "id": "cce31eb0",
   "metadata": {},
   "outputs": [
    {
     "data": {
      "text/plain": [
       "-26"
      ]
     },
     "execution_count": 11,
     "metadata": {},
     "output_type": "execute_result"
    }
   ],
   "source": [
    "#data types\n",
    "#integer\n",
    "\n",
    "19+23-34-34"
   ]
  },
  {
   "cell_type": "code",
   "execution_count": 12,
   "id": "bcdea442",
   "metadata": {},
   "outputs": [
    {
     "data": {
      "text/plain": [
       "24.12"
      ]
     },
     "execution_count": 12,
     "metadata": {},
     "output_type": "execute_result"
    }
   ],
   "source": [
    "#floating point number\n",
    "\n",
    "1.0+23.12"
   ]
  },
  {
   "cell_type": "code",
   "execution_count": 14,
   "id": "795b5afb",
   "metadata": {},
   "outputs": [
    {
     "data": {
      "text/plain": [
       "'Hello world'"
      ]
     },
     "execution_count": 14,
     "metadata": {},
     "output_type": "execute_result"
    }
   ],
   "source": [
    "#string\n",
    "\n",
    "'Hello world'"
   ]
  },
  {
   "cell_type": "code",
   "execution_count": 15,
   "id": "88853d9f",
   "metadata": {},
   "outputs": [
    {
     "data": {
      "text/plain": [
       "'My name is Aakash, i am learning python here'"
      ]
     },
     "execution_count": 15,
     "metadata": {},
     "output_type": "execute_result"
    }
   ],
   "source": [
    "'My name is Aakash, i am learning python here'"
   ]
  },
  {
   "cell_type": "code",
   "execution_count": 16,
   "id": "f8b60602",
   "metadata": {},
   "outputs": [
    {
     "data": {
      "text/plain": [
       "'This is my Python Tutorials'"
      ]
     },
     "execution_count": 16,
     "metadata": {},
     "output_type": "execute_result"
    }
   ],
   "source": [
    "\"This is my Python Tutorials\""
   ]
  },
  {
   "cell_type": "code",
   "execution_count": 18,
   "id": "e82d0e90",
   "metadata": {},
   "outputs": [
    {
     "data": {
      "text/plain": [
       "'Good morning Aakash!'"
      ]
     },
     "execution_count": 18,
     "metadata": {},
     "output_type": "execute_result"
    }
   ],
   "source": [
    "#string concatination\n",
    "\n",
    "'Good morning' + ' Aakash!'"
   ]
  },
  {
   "cell_type": "code",
   "execution_count": 19,
   "id": "2a98df4d",
   "metadata": {},
   "outputs": [
    {
     "data": {
      "text/plain": [
       "'This is My love to Pythoni am just 23 years old'"
      ]
     },
     "execution_count": 19,
     "metadata": {},
     "output_type": "execute_result"
    }
   ],
   "source": [
    "'This is My love to Python' + 'i am just 23 years old'"
   ]
  },
  {
   "cell_type": "code",
   "execution_count": 20,
   "id": "94fd0dce",
   "metadata": {},
   "outputs": [
    {
     "ename": "TypeError",
     "evalue": "can only concatenate str (not \"int\") to str",
     "output_type": "error",
     "traceback": [
      "\u001b[1;31m---------------------------------------------------------------------------\u001b[0m",
      "\u001b[1;31mTypeError\u001b[0m                                 Traceback (most recent call last)",
      "\u001b[1;32m~\\AppData\\Local\\Temp/ipykernel_17148/2985442603.py\u001b[0m in \u001b[0;36m<module>\u001b[1;34m\u001b[0m\n\u001b[1;32m----> 1\u001b[1;33m \u001b[1;34m'my mobile number is '\u001b[0m \u001b[1;33m+\u001b[0m \u001b[1;36m2727273737\u001b[0m\u001b[1;33m\u001b[0m\u001b[1;33m\u001b[0m\u001b[0m\n\u001b[0m",
      "\u001b[1;31mTypeError\u001b[0m: can only concatenate str (not \"int\") to str"
     ]
    }
   ],
   "source": [
    "'my mobile number is ' + 2727273737 #error can only concatinate string values "
   ]
  },
  {
   "cell_type": "code",
   "execution_count": 22,
   "id": "5c0c6718",
   "metadata": {},
   "outputs": [
    {
     "data": {
      "text/plain": [
       "'my mobile number is 2323948484'"
      ]
     },
     "execution_count": 22,
     "metadata": {},
     "output_type": "execute_result"
    }
   ],
   "source": [
    "'my mobile number is' + ' 2323948484'"
   ]
  },
  {
   "cell_type": "code",
   "execution_count": 23,
   "id": "476f972f",
   "metadata": {},
   "outputs": [
    {
     "data": {
      "text/plain": [
       "'AakashAakash'"
      ]
     },
     "execution_count": 23,
     "metadata": {},
     "output_type": "execute_result"
    }
   ],
   "source": [
    "#string replication\n",
    "\n",
    "'Aakash'*2"
   ]
  },
  {
   "cell_type": "code",
   "execution_count": 24,
   "id": "611be4a1",
   "metadata": {},
   "outputs": [
    {
     "ename": "TypeError",
     "evalue": "can only concatenate str (not \"int\") to str",
     "output_type": "error",
     "traceback": [
      "\u001b[1;31m---------------------------------------------------------------------------\u001b[0m",
      "\u001b[1;31mTypeError\u001b[0m                                 Traceback (most recent call last)",
      "\u001b[1;32m~\\AppData\\Local\\Temp/ipykernel_17148/2880014650.py\u001b[0m in \u001b[0;36m<module>\u001b[1;34m\u001b[0m\n\u001b[1;32m----> 1\u001b[1;33m \u001b[1;34m'Aakash'\u001b[0m\u001b[1;33m+\u001b[0m\u001b[1;36m2\u001b[0m\u001b[1;33m\u001b[0m\u001b[1;33m\u001b[0m\u001b[0m\n\u001b[0m",
      "\u001b[1;31mTypeError\u001b[0m: can only concatenate str (not \"int\") to str"
     ]
    }
   ],
   "source": [
    "'Aakash'+2 #it only replicates the string"
   ]
  },
  {
   "cell_type": "code",
   "execution_count": 25,
   "id": "fd91f4d4",
   "metadata": {},
   "outputs": [
    {
     "data": {
      "text/plain": [
       "'i am leaning phython i am leaning phython i am leaning phython i am leaning phython '"
      ]
     },
     "execution_count": 25,
     "metadata": {},
     "output_type": "execute_result"
    }
   ],
   "source": [
    "'i am leaning phython ' *4"
   ]
  },
  {
   "cell_type": "code",
   "execution_count": 26,
   "id": "e9a4bfc9",
   "metadata": {},
   "outputs": [],
   "source": [
    "#variables\n",
    "var1 = 'Python Programing'"
   ]
  },
  {
   "cell_type": "code",
   "execution_count": 27,
   "id": "e24a5b43",
   "metadata": {},
   "outputs": [
    {
     "name": "stdout",
     "output_type": "stream",
     "text": [
      "Python Programing\n"
     ]
    }
   ],
   "source": [
    "print(var1)"
   ]
  },
  {
   "cell_type": "code",
   "execution_count": 28,
   "id": "606794b9",
   "metadata": {},
   "outputs": [],
   "source": [
    "var2 = 23\n",
    "var3 = 34"
   ]
  },
  {
   "cell_type": "code",
   "execution_count": 29,
   "id": "cd9fbafa",
   "metadata": {},
   "outputs": [
    {
     "name": "stdout",
     "output_type": "stream",
     "text": [
      "57\n"
     ]
    }
   ],
   "source": [
    "var4 = var2+var3\n",
    "print(var4)"
   ]
  },
  {
   "cell_type": "code",
   "execution_count": 39,
   "id": "0b6cc59d",
   "metadata": {},
   "outputs": [
    {
     "name": "stdout",
     "output_type": "stream",
     "text": [
      "ravi\n",
      "Hello ravi\n",
      "length of your name is 4\n"
     ]
    }
   ],
   "source": [
    "#1st python program\n",
    "name = input(str())\n",
    "name_add = \"Hello \" + name\n",
    "print(name_add)\n",
    "lencheck = f\"length of your name is {len(name)}\"\n",
    "print(lencheck)"
   ]
  },
  {
   "cell_type": "code",
   "execution_count": 40,
   "id": "df6b199f",
   "metadata": {},
   "outputs": [
    {
     "data": {
      "text/plain": [
       "'24'"
      ]
     },
     "execution_count": 40,
     "metadata": {},
     "output_type": "execute_result"
    }
   ],
   "source": [
    "str(24)"
   ]
  },
  {
   "cell_type": "code",
   "execution_count": 41,
   "id": "302c368a",
   "metadata": {},
   "outputs": [
    {
     "data": {
      "text/plain": [
       "23"
      ]
     },
     "execution_count": 41,
     "metadata": {},
     "output_type": "execute_result"
    }
   ],
   "source": [
    "int('23')"
   ]
  },
  {
   "cell_type": "code",
   "execution_count": 42,
   "id": "0f49564b",
   "metadata": {},
   "outputs": [
    {
     "data": {
      "text/plain": [
       "23.0"
      ]
     },
     "execution_count": 42,
     "metadata": {},
     "output_type": "execute_result"
    }
   ],
   "source": [
    "float(23)"
   ]
  },
  {
   "cell_type": "code",
   "execution_count": null,
   "id": "3b61217c",
   "metadata": {},
   "outputs": [],
   "source": []
  }
 ],
 "metadata": {
  "kernelspec": {
   "display_name": "Python 3 (ipykernel)",
   "language": "python",
   "name": "python3"
  },
  "language_info": {
   "codemirror_mode": {
    "name": "ipython",
    "version": 3
   },
   "file_extension": ".py",
   "mimetype": "text/x-python",
   "name": "python",
   "nbconvert_exporter": "python",
   "pygments_lexer": "ipython3",
   "version": "3.8.10"
  }
 },
 "nbformat": 4,
 "nbformat_minor": 5
}
